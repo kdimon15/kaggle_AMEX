{
 "cells": [
  {
   "cell_type": "code",
   "execution_count": 1,
   "metadata": {},
   "outputs": [],
   "source": [
    "import numpy as np\n",
    "import pandas as pd\n",
    "import matplotlib.pyplot as plt\n",
    "from matplotlib.ticker import MaxNLocator\n",
    "from matplotlib.colors import ListedColormap\n",
    "import seaborn as sns\n",
    "from cycler import cycler\n",
    "from IPython.display import display\n",
    "import datetime\n",
    "import warnings\n",
    "from colorama import Fore, Style\n",
    "import gc\n",
    "import pickle\n",
    "\n",
    "from sklearn.model_selection import StratifiedKFold\n",
    "from sklearn.calibration import CalibrationDisplay\n",
    "import lightgbm\n",
    "from catboost import Pool, CatBoostClassifier\n",
    "from sklearn.preprocessing import LabelEncoder\n",
    "import catboost\n",
    "from utils import get_data, amex_metric\n",
    "import ipywidgets\n",
    "\n",
    "\n",
    "plt.rcParams['axes.facecolor'] = '#0057b8' # blue\n",
    "plt.rcParams['axes.prop_cycle'] = cycler(color=['#ffd700'] +\n",
    "                                         plt.rcParams['axes.prop_cycle'].by_key()['color'][1:])\n",
    "plt.rcParams['text.color'] = 'w'"
   ]
  },
  {
   "cell_type": "code",
   "execution_count": 2,
   "metadata": {},
   "outputs": [],
   "source": [
    "CFG = {\n",
    "    'num_folds': 5,\n",
    "\n",
    "    'catboost': {\n",
    "        'depth': 6,\n",
    "        'iterations': 4000,\n",
    "        'learning_rate': 0.04,\n",
    "    },\n",
    "\n",
    "    'seed': 777\n",
    "}"
   ]
  },
  {
   "cell_type": "code",
   "execution_count": 3,
   "metadata": {},
   "outputs": [],
   "source": [
    "train_data, target, cat_features = get_data('data/train_data.ftr', train=True)"
   ]
  },
  {
   "cell_type": "code",
   "execution_count": 6,
   "metadata": {},
   "outputs": [
    {
     "name": "stdout",
     "output_type": "stream",
     "text": [
      "Learning rate set to 0.074722\n",
      "0:\tlearn: 0.6071903\ttotal: 616ms\tremaining: 20m 32s\n",
      "100:\tlearn: 0.2268170\ttotal: 40.8s\tremaining: 12m 47s\n",
      "200:\tlearn: 0.2199795\ttotal: 1m 19s\tremaining: 11m 50s\n",
      "300:\tlearn: 0.2155830\ttotal: 1m 58s\tremaining: 11m 6s\n",
      "400:\tlearn: 0.2121664\ttotal: 2m 36s\tremaining: 10m 23s\n",
      "500:\tlearn: 0.2091462\ttotal: 3m 14s\tremaining: 9m 40s\n",
      "600:\tlearn: 0.2063563\ttotal: 3m 51s\tremaining: 8m 58s\n",
      "700:\tlearn: 0.2037634\ttotal: 4m 30s\tremaining: 8m 20s\n",
      "800:\tlearn: 0.2011724\ttotal: 5m 7s\tremaining: 7m 40s\n",
      "900:\tlearn: 0.1988236\ttotal: 5m 44s\tremaining: 7m\n",
      "1000:\tlearn: 0.1965378\ttotal: 6m 21s\tremaining: 6m 20s\n",
      "1100:\tlearn: 0.1942578\ttotal: 6m 58s\tremaining: 5m 41s\n",
      "1200:\tlearn: 0.1920314\ttotal: 7m 35s\tremaining: 5m 3s\n",
      "1300:\tlearn: 0.1899012\ttotal: 8m 12s\tremaining: 4m 24s\n",
      "1400:\tlearn: 0.1877845\ttotal: 8m 50s\tremaining: 3m 46s\n",
      "1500:\tlearn: 0.1857469\ttotal: 9m 28s\tremaining: 3m 8s\n",
      "1600:\tlearn: 0.1837411\ttotal: 10m 6s\tremaining: 2m 31s\n",
      "1700:\tlearn: 0.1817336\ttotal: 10m 42s\tremaining: 1m 53s\n",
      "1800:\tlearn: 0.1797800\ttotal: 11m 20s\tremaining: 1m 15s\n",
      "1900:\tlearn: 0.1778585\ttotal: 11m 57s\tremaining: 37.4s\n",
      "1999:\tlearn: 0.1759604\ttotal: 12m 34s\tremaining: 0us\n"
     ]
    },
    {
     "data": {
      "text/plain": [
       "<catboost.core.CatBoostClassifier at 0x15634b520>"
      ]
     },
     "execution_count": 6,
     "metadata": {},
     "output_type": "execute_result"
    }
   ],
   "source": [
    "model = CatBoostClassifier(\n",
    "    depth=CFG['catboost']['depth'],\n",
    "    iterations=2000,\n",
    "    #learning_rate=CFG['catboost']['learning_rate'],\n",
    "    custom_metric='AUC',\n",
    "    random_seed=CFG['seed'],\n",
    "    thread_count=6,\n",
    "    early_stopping_rounds=300\n",
    ")\n",
    "model.fit(Pool(train_data, target, cat_features=cat_features), verbose=100)"
   ]
  },
  {
   "cell_type": "code",
   "execution_count": 7,
   "metadata": {},
   "outputs": [],
   "source": [
    "feature_imp = model.get_feature_importance()\n",
    "bad_cols = [train_data.columns[i] for i in range(len(train_data.columns)) if feature_imp[i] < 0.03]\n",
    "train_data.drop(bad_cols, axis=1, inplace=True)\n",
    "cat_features = [x for x in cat_features if x in train_data.columns.tolist()]\n",
    "\n",
    "with open('models/feature_list.pkl', 'wb') as f:\n",
    "    pickle.dump([train_data.columns.tolist(), cat_features], f)"
   ]
  },
  {
   "cell_type": "code",
   "execution_count": 8,
   "metadata": {},
   "outputs": [
    {
     "data": {
      "application/vnd.jupyter.widget-view+json": {
       "model_id": "54d3b4f0bce445d18995439148a88a35",
       "version_major": 2,
       "version_minor": 0
      },
      "text/plain": [
       "MetricVisualizer(layout=Layout(align_self='stretch', height='500px'))"
      ]
     },
     "metadata": {},
     "output_type": "display_data"
    },
    {
     "name": "stdout",
     "output_type": "stream",
     "text": [
      "0:\ttest: 0.9264580\tbest: 0.9264580 (0)\ttotal: 309ms\tremaining: 20m 37s\n",
      "100:\ttest: 0.9567919\tbest: 0.9567919 (100)\ttotal: 20.3s\tremaining: 13m 4s\n",
      "200:\ttest: 0.9588124\tbest: 0.9588124 (200)\ttotal: 39.4s\tremaining: 12m 24s\n",
      "300:\ttest: 0.9598048\tbest: 0.9598048 (300)\ttotal: 58.2s\tremaining: 11m 55s\n",
      "400:\ttest: 0.9604372\tbest: 0.9604372 (400)\ttotal: 1m 17s\tremaining: 11m 33s\n",
      "500:\ttest: 0.9608329\tbest: 0.9608329 (500)\ttotal: 1m 36s\tremaining: 11m 15s\n",
      "600:\ttest: 0.9611113\tbest: 0.9611113 (600)\ttotal: 1m 55s\tremaining: 10m 53s\n",
      "700:\ttest: 0.9613068\tbest: 0.9613068 (700)\ttotal: 2m 14s\tremaining: 10m 31s\n",
      "800:\ttest: 0.9614610\tbest: 0.9614611 (798)\ttotal: 2m 33s\tremaining: 10m 11s\n",
      "900:\ttest: 0.9615940\tbest: 0.9615940 (900)\ttotal: 2m 51s\tremaining: 9m 51s\n",
      "1000:\ttest: 0.9617086\tbest: 0.9617086 (1000)\ttotal: 3m 10s\tremaining: 9m 31s\n",
      "1100:\ttest: 0.9617986\tbest: 0.9617993 (1098)\ttotal: 3m 29s\tremaining: 9m 11s\n",
      "1200:\ttest: 0.9618602\tbest: 0.9618613 (1191)\ttotal: 3m 48s\tremaining: 8m 51s\n",
      "1300:\ttest: 0.9619200\tbest: 0.9619213 (1292)\ttotal: 4m 6s\tremaining: 8m 31s\n",
      "1400:\ttest: 0.9619847\tbest: 0.9619868 (1398)\ttotal: 4m 25s\tremaining: 8m 11s\n",
      "1500:\ttest: 0.9620295\tbest: 0.9620304 (1497)\ttotal: 4m 43s\tremaining: 7m 52s\n",
      "1600:\ttest: 0.9620791\tbest: 0.9620796 (1597)\ttotal: 5m 2s\tremaining: 7m 33s\n",
      "1700:\ttest: 0.9621094\tbest: 0.9621095 (1698)\ttotal: 5m 21s\tremaining: 7m 15s\n",
      "1800:\ttest: 0.9621422\tbest: 0.9621430 (1791)\ttotal: 5m 40s\tremaining: 6m 55s\n",
      "1900:\ttest: 0.9621695\tbest: 0.9621711 (1899)\ttotal: 5m 58s\tremaining: 6m 36s\n",
      "2000:\ttest: 0.9621927\tbest: 0.9621927 (2000)\ttotal: 6m 17s\tremaining: 6m 17s\n",
      "2100:\ttest: 0.9622144\tbest: 0.9622183 (2093)\ttotal: 6m 36s\tremaining: 5m 58s\n",
      "2200:\ttest: 0.9622407\tbest: 0.9622409 (2199)\ttotal: 6m 55s\tremaining: 5m 39s\n",
      "2300:\ttest: 0.9622627\tbest: 0.9622627 (2299)\ttotal: 7m 14s\tremaining: 5m 20s\n",
      "2400:\ttest: 0.9622838\tbest: 0.9622867 (2398)\ttotal: 7m 33s\tremaining: 5m 1s\n",
      "2500:\ttest: 0.9623184\tbest: 0.9623184 (2500)\ttotal: 7m 51s\tremaining: 4m 42s\n",
      "2600:\ttest: 0.9623316\tbest: 0.9623333 (2589)\ttotal: 8m 10s\tremaining: 4m 23s\n",
      "2700:\ttest: 0.9623497\tbest: 0.9623500 (2675)\ttotal: 8m 29s\tremaining: 4m 4s\n",
      "2800:\ttest: 0.9623593\tbest: 0.9623593 (2800)\ttotal: 8m 48s\tremaining: 3m 46s\n",
      "2900:\ttest: 0.9623602\tbest: 0.9623726 (2836)\ttotal: 9m 7s\tremaining: 3m 27s\n",
      "3000:\ttest: 0.9623905\tbest: 0.9623927 (2998)\ttotal: 9m 26s\tremaining: 3m 8s\n",
      "3100:\ttest: 0.9624037\tbest: 0.9624108 (3072)\ttotal: 9m 45s\tremaining: 2m 49s\n",
      "3200:\ttest: 0.9624069\tbest: 0.9624149 (3164)\ttotal: 10m 4s\tremaining: 2m 30s\n",
      "3300:\ttest: 0.9624163\tbest: 0.9624183 (3267)\ttotal: 10m 23s\tremaining: 2m 11s\n",
      "3400:\ttest: 0.9624222\tbest: 0.9624299 (3387)\ttotal: 10m 41s\tremaining: 1m 53s\n",
      "3500:\ttest: 0.9624346\tbest: 0.9624361 (3499)\ttotal: 11m\tremaining: 1m 34s\n",
      "3600:\ttest: 0.9624529\tbest: 0.9624529 (3600)\ttotal: 11m 20s\tremaining: 1m 15s\n",
      "3700:\ttest: 0.9624554\tbest: 0.9624576 (3675)\ttotal: 11m 39s\tremaining: 56.5s\n",
      "3800:\ttest: 0.9624660\tbest: 0.9624681 (3796)\ttotal: 11m 58s\tremaining: 37.6s\n",
      "3900:\ttest: 0.9624721\tbest: 0.9624721 (3900)\ttotal: 12m 17s\tremaining: 18.7s\n",
      "3999:\ttest: 0.9624741\tbest: 0.9624753 (3918)\ttotal: 12m 36s\tremaining: 0us\n",
      "\n",
      "bestTest = 0.9624753267\n",
      "bestIteration = 3918\n",
      "\n",
      "Shrink model to first 3919 iterations.\n",
      "\u001b[32m\u001b[1mFold 0 | 13:44 |  3918 trees |                Score = 0.79551\u001b[0m\n"
     ]
    },
    {
     "data": {
      "application/vnd.jupyter.widget-view+json": {
       "model_id": "095ef38b8d3c40249e39b8fd9da8cb2a",
       "version_major": 2,
       "version_minor": 0
      },
      "text/plain": [
       "MetricVisualizer(layout=Layout(align_self='stretch', height='500px'))"
      ]
     },
     "metadata": {},
     "output_type": "display_data"
    },
    {
     "name": "stdout",
     "output_type": "stream",
     "text": [
      "0:\ttest: 0.9284352\tbest: 0.9284352 (0)\ttotal: 301ms\tremaining: 20m 2s\n",
      "100:\ttest: 0.9556223\tbest: 0.9556223 (100)\ttotal: 20.5s\tremaining: 13m 9s\n",
      "200:\ttest: 0.9578499\tbest: 0.9578499 (200)\ttotal: 39.3s\tremaining: 12m 21s\n",
      "300:\ttest: 0.9588514\tbest: 0.9588514 (300)\ttotal: 58.2s\tremaining: 11m 54s\n",
      "400:\ttest: 0.9594878\tbest: 0.9594878 (400)\ttotal: 1m 16s\tremaining: 11m 29s\n",
      "500:\ttest: 0.9598610\tbest: 0.9598610 (500)\ttotal: 1m 35s\tremaining: 11m 8s\n",
      "600:\ttest: 0.9601436\tbest: 0.9601436 (600)\ttotal: 1m 54s\tremaining: 10m 48s\n",
      "700:\ttest: 0.9603137\tbest: 0.9603137 (700)\ttotal: 2m 13s\tremaining: 10m 30s\n",
      "800:\ttest: 0.9604563\tbest: 0.9604563 (800)\ttotal: 2m 33s\tremaining: 10m 11s\n",
      "900:\ttest: 0.9605526\tbest: 0.9605526 (900)\ttotal: 2m 51s\tremaining: 9m 50s\n",
      "1000:\ttest: 0.9606500\tbest: 0.9606500 (1000)\ttotal: 3m 10s\tremaining: 9m 30s\n",
      "1100:\ttest: 0.9607181\tbest: 0.9607181 (1100)\ttotal: 3m 28s\tremaining: 9m 10s\n",
      "1200:\ttest: 0.9607840\tbest: 0.9607840 (1200)\ttotal: 3m 47s\tremaining: 8m 49s\n",
      "1300:\ttest: 0.9608366\tbest: 0.9608383 (1281)\ttotal: 4m 5s\tremaining: 8m 29s\n",
      "1400:\ttest: 0.9608812\tbest: 0.9608812 (1400)\ttotal: 4m 23s\tremaining: 8m 9s\n",
      "1500:\ttest: 0.9609196\tbest: 0.9609201 (1498)\ttotal: 4m 42s\tremaining: 7m 51s\n",
      "1600:\ttest: 0.9609688\tbest: 0.9609688 (1600)\ttotal: 5m 2s\tremaining: 7m 33s\n",
      "1700:\ttest: 0.9610036\tbest: 0.9610077 (1692)\ttotal: 5m 22s\tremaining: 7m 15s\n",
      "1800:\ttest: 0.9610260\tbest: 0.9610266 (1796)\ttotal: 5m 41s\tremaining: 6m 57s\n",
      "1900:\ttest: 0.9610618\tbest: 0.9610624 (1897)\ttotal: 6m\tremaining: 6m 38s\n",
      "2000:\ttest: 0.9610833\tbest: 0.9610870 (1978)\ttotal: 6m 19s\tremaining: 6m 19s\n",
      "2100:\ttest: 0.9611027\tbest: 0.9611068 (2089)\ttotal: 6m 38s\tremaining: 6m\n",
      "2200:\ttest: 0.9611276\tbest: 0.9611278 (2198)\ttotal: 6m 57s\tremaining: 5m 41s\n",
      "2300:\ttest: 0.9611541\tbest: 0.9611541 (2300)\ttotal: 7m 16s\tremaining: 5m 22s\n",
      "2400:\ttest: 0.9611811\tbest: 0.9611835 (2375)\ttotal: 7m 35s\tremaining: 5m 3s\n",
      "2500:\ttest: 0.9611829\tbest: 0.9611836 (2418)\ttotal: 7m 54s\tremaining: 4m 44s\n",
      "2600:\ttest: 0.9612030\tbest: 0.9612058 (2583)\ttotal: 8m 13s\tremaining: 4m 25s\n",
      "2700:\ttest: 0.9612200\tbest: 0.9612200 (2700)\ttotal: 8m 33s\tremaining: 4m 6s\n",
      "2800:\ttest: 0.9612316\tbest: 0.9612316 (2800)\ttotal: 8m 52s\tremaining: 3m 47s\n",
      "2900:\ttest: 0.9612323\tbest: 0.9612347 (2894)\ttotal: 9m 10s\tremaining: 3m 28s\n",
      "3000:\ttest: 0.9612434\tbest: 0.9612434 (3000)\ttotal: 9m 29s\tremaining: 3m 9s\n",
      "3100:\ttest: 0.9612536\tbest: 0.9612573 (3093)\ttotal: 9m 48s\tremaining: 2m 50s\n",
      "3200:\ttest: 0.9612525\tbest: 0.9612579 (3174)\ttotal: 10m 8s\tremaining: 2m 31s\n",
      "3300:\ttest: 0.9612499\tbest: 0.9612629 (3222)\ttotal: 10m 27s\tremaining: 2m 12s\n",
      "3400:\ttest: 0.9612576\tbest: 0.9612629 (3222)\ttotal: 10m 46s\tremaining: 1m 53s\n",
      "3500:\ttest: 0.9612711\tbest: 0.9612711 (3500)\ttotal: 11m 6s\tremaining: 1m 34s\n",
      "3600:\ttest: 0.9612660\tbest: 0.9612717 (3516)\ttotal: 11m 25s\tremaining: 1m 15s\n",
      "3700:\ttest: 0.9612738\tbest: 0.9612738 (3700)\ttotal: 11m 44s\tremaining: 56.9s\n",
      "3800:\ttest: 0.9612672\tbest: 0.9612866 (3743)\ttotal: 12m 3s\tremaining: 37.9s\n",
      "3900:\ttest: 0.9612532\tbest: 0.9612866 (3743)\ttotal: 12m 23s\tremaining: 18.9s\n",
      "3999:\ttest: 0.9612581\tbest: 0.9612866 (3743)\ttotal: 12m 42s\tremaining: 0us\n",
      "\n",
      "bestTest = 0.9612865581\n",
      "bestIteration = 3743\n",
      "\n",
      "Shrink model to first 3744 iterations.\n",
      "\u001b[32m\u001b[1mFold 1 | 13:50 |  3743 trees |                Score = 0.79313\u001b[0m\n"
     ]
    },
    {
     "data": {
      "application/vnd.jupyter.widget-view+json": {
       "model_id": "d9649e5cf31c47c88d756700a881edb4",
       "version_major": 2,
       "version_minor": 0
      },
      "text/plain": [
       "MetricVisualizer(layout=Layout(align_self='stretch', height='500px'))"
      ]
     },
     "metadata": {},
     "output_type": "display_data"
    },
    {
     "name": "stdout",
     "output_type": "stream",
     "text": [
      "0:\ttest: 0.9308570\tbest: 0.9308570 (0)\ttotal: 254ms\tremaining: 16m 56s\n",
      "100:\ttest: 0.9561609\tbest: 0.9561609 (100)\ttotal: 20.2s\tremaining: 13m\n",
      "200:\ttest: 0.9584195\tbest: 0.9584195 (200)\ttotal: 39.6s\tremaining: 12m 29s\n",
      "300:\ttest: 0.9594759\tbest: 0.9594759 (300)\ttotal: 59s\tremaining: 12m 5s\n",
      "400:\ttest: 0.9601933\tbest: 0.9601933 (400)\ttotal: 1m 17s\tremaining: 11m 38s\n",
      "500:\ttest: 0.9606297\tbest: 0.9606297 (500)\ttotal: 1m 36s\tremaining: 11m 14s\n",
      "600:\ttest: 0.9609410\tbest: 0.9609410 (600)\ttotal: 1m 55s\tremaining: 10m 52s\n",
      "700:\ttest: 0.9611592\tbest: 0.9611594 (698)\ttotal: 2m 13s\tremaining: 10m 30s\n",
      "800:\ttest: 0.9613409\tbest: 0.9613419 (799)\ttotal: 2m 32s\tremaining: 10m 9s\n",
      "900:\ttest: 0.9614749\tbest: 0.9614749 (900)\ttotal: 2m 51s\tremaining: 9m 48s\n",
      "1000:\ttest: 0.9616042\tbest: 0.9616042 (1000)\ttotal: 3m 9s\tremaining: 9m 28s\n",
      "1100:\ttest: 0.9616985\tbest: 0.9616985 (1100)\ttotal: 3m 28s\tremaining: 9m 8s\n",
      "1200:\ttest: 0.9617766\tbest: 0.9617781 (1198)\ttotal: 3m 46s\tremaining: 8m 48s\n",
      "1300:\ttest: 0.9618129\tbest: 0.9618129 (1300)\ttotal: 4m 5s\tremaining: 8m 28s\n",
      "1400:\ttest: 0.9618656\tbest: 0.9618656 (1400)\ttotal: 4m 23s\tremaining: 8m 9s\n",
      "1500:\ttest: 0.9619167\tbest: 0.9619171 (1499)\ttotal: 4m 43s\tremaining: 7m 51s\n",
      "1600:\ttest: 0.9619670\tbest: 0.9619670 (1600)\ttotal: 5m 2s\tremaining: 7m 33s\n",
      "1700:\ttest: 0.9620070\tbest: 0.9620074 (1699)\ttotal: 5m 21s\tremaining: 7m 14s\n",
      "1800:\ttest: 0.9620317\tbest: 0.9620317 (1797)\ttotal: 5m 40s\tremaining: 6m 55s\n",
      "1900:\ttest: 0.9620588\tbest: 0.9620588 (1900)\ttotal: 5m 59s\tremaining: 6m 37s\n",
      "2000:\ttest: 0.9620881\tbest: 0.9620889 (1988)\ttotal: 6m 18s\tremaining: 6m 18s\n",
      "2100:\ttest: 0.9621059\tbest: 0.9621073 (2098)\ttotal: 6m 36s\tremaining: 5m 58s\n",
      "2200:\ttest: 0.9621344\tbest: 0.9621350 (2197)\ttotal: 6m 55s\tremaining: 5m 39s\n",
      "2300:\ttest: 0.9621522\tbest: 0.9621530 (2298)\ttotal: 7m 13s\tremaining: 5m 20s\n",
      "2400:\ttest: 0.9621948\tbest: 0.9621948 (2400)\ttotal: 7m 32s\tremaining: 5m 1s\n",
      "2500:\ttest: 0.9622007\tbest: 0.9622009 (2499)\ttotal: 7m 51s\tremaining: 4m 42s\n",
      "2600:\ttest: 0.9622079\tbest: 0.9622079 (2600)\ttotal: 8m 10s\tremaining: 4m 23s\n",
      "2700:\ttest: 0.9622379\tbest: 0.9622418 (2695)\ttotal: 8m 29s\tremaining: 4m 5s\n",
      "2800:\ttest: 0.9622496\tbest: 0.9622511 (2794)\ttotal: 8m 48s\tremaining: 3m 46s\n",
      "2900:\ttest: 0.9622525\tbest: 0.9622540 (2836)\ttotal: 9m 7s\tremaining: 3m 27s\n",
      "3000:\ttest: 0.9622770\tbest: 0.9622770 (3000)\ttotal: 9m 26s\tremaining: 3m 8s\n",
      "3100:\ttest: 0.9622839\tbest: 0.9622839 (3100)\ttotal: 9m 45s\tremaining: 2m 49s\n",
      "3200:\ttest: 0.9622968\tbest: 0.9623007 (3135)\ttotal: 10m 4s\tremaining: 2m 30s\n",
      "3300:\ttest: 0.9623047\tbest: 0.9623059 (3257)\ttotal: 10m 23s\tremaining: 2m 11s\n",
      "3400:\ttest: 0.9623160\tbest: 0.9623222 (3358)\ttotal: 10m 41s\tremaining: 1m 53s\n",
      "3500:\ttest: 0.9623123\tbest: 0.9623222 (3358)\ttotal: 11m\tremaining: 1m 34s\n",
      "3600:\ttest: 0.9623256\tbest: 0.9623264 (3597)\ttotal: 11m 19s\tremaining: 1m 15s\n",
      "3700:\ttest: 0.9623291\tbest: 0.9623291 (3700)\ttotal: 11m 38s\tremaining: 56.4s\n",
      "3800:\ttest: 0.9623496\tbest: 0.9623507 (3782)\ttotal: 11m 57s\tremaining: 37.6s\n",
      "3900:\ttest: 0.9623487\tbest: 0.9623544 (3881)\ttotal: 12m 16s\tremaining: 18.7s\n",
      "3999:\ttest: 0.9623432\tbest: 0.9623544 (3881)\ttotal: 12m 35s\tremaining: 0us\n",
      "\n",
      "bestTest = 0.9623543654\n",
      "bestIteration = 3881\n",
      "\n",
      "Shrink model to first 3882 iterations.\n",
      "\u001b[32m\u001b[1mFold 2 | 13:44 |  3881 trees |                Score = 0.79379\u001b[0m\n"
     ]
    },
    {
     "data": {
      "application/vnd.jupyter.widget-view+json": {
       "model_id": "5ab8a8a624594a0f8e6868f42ab64dce",
       "version_major": 2,
       "version_minor": 0
      },
      "text/plain": [
       "MetricVisualizer(layout=Layout(align_self='stretch', height='500px'))"
      ]
     },
     "metadata": {},
     "output_type": "display_data"
    },
    {
     "name": "stdout",
     "output_type": "stream",
     "text": [
      "0:\ttest: 0.9300987\tbest: 0.9300987 (0)\ttotal: 268ms\tremaining: 17m 52s\n",
      "100:\ttest: 0.9560406\tbest: 0.9560406 (100)\ttotal: 20.7s\tremaining: 13m 18s\n",
      "200:\ttest: 0.9581360\tbest: 0.9581360 (200)\ttotal: 39.9s\tremaining: 12m 33s\n",
      "300:\ttest: 0.9591309\tbest: 0.9591309 (300)\ttotal: 58.9s\tremaining: 12m 4s\n",
      "400:\ttest: 0.9597413\tbest: 0.9597413 (400)\ttotal: 1m 17s\tremaining: 11m 37s\n",
      "500:\ttest: 0.9601202\tbest: 0.9601202 (500)\ttotal: 1m 36s\tremaining: 11m 14s\n",
      "600:\ttest: 0.9604003\tbest: 0.9604003 (600)\ttotal: 1m 55s\tremaining: 10m 51s\n",
      "700:\ttest: 0.9606030\tbest: 0.9606030 (700)\ttotal: 2m 14s\tremaining: 10m 33s\n",
      "800:\ttest: 0.9607615\tbest: 0.9607615 (800)\ttotal: 2m 33s\tremaining: 10m 13s\n",
      "900:\ttest: 0.9608812\tbest: 0.9608812 (900)\ttotal: 2m 52s\tremaining: 9m 52s\n",
      "1000:\ttest: 0.9609822\tbest: 0.9609822 (1000)\ttotal: 3m 10s\tremaining: 9m 32s\n",
      "1100:\ttest: 0.9610514\tbest: 0.9610514 (1100)\ttotal: 3m 30s\tremaining: 9m 14s\n",
      "1200:\ttest: 0.9611243\tbest: 0.9611243 (1200)\ttotal: 3m 49s\tremaining: 8m 55s\n",
      "1300:\ttest: 0.9611670\tbest: 0.9611679 (1299)\ttotal: 4m 8s\tremaining: 8m 36s\n",
      "1400:\ttest: 0.9612301\tbest: 0.9612301 (1400)\ttotal: 4m 27s\tremaining: 8m 16s\n",
      "1500:\ttest: 0.9612742\tbest: 0.9612742 (1500)\ttotal: 4m 46s\tremaining: 7m 56s\n",
      "1600:\ttest: 0.9613096\tbest: 0.9613112 (1599)\ttotal: 5m 5s\tremaining: 7m 37s\n",
      "1700:\ttest: 0.9613244\tbest: 0.9613290 (1672)\ttotal: 5m 24s\tremaining: 7m 18s\n",
      "1800:\ttest: 0.9613663\tbest: 0.9613663 (1800)\ttotal: 5m 42s\tremaining: 6m 58s\n",
      "1900:\ttest: 0.9613923\tbest: 0.9613923 (1900)\ttotal: 6m 1s\tremaining: 6m 39s\n",
      "2000:\ttest: 0.9614125\tbest: 0.9614138 (1999)\ttotal: 6m 20s\tremaining: 6m 20s\n",
      "2100:\ttest: 0.9614253\tbest: 0.9614267 (2044)\ttotal: 6m 39s\tremaining: 6m 1s\n",
      "2200:\ttest: 0.9614500\tbest: 0.9614517 (2191)\ttotal: 6m 58s\tremaining: 5m 42s\n",
      "2300:\ttest: 0.9614807\tbest: 0.9614817 (2298)\ttotal: 7m 17s\tremaining: 5m 23s\n",
      "2400:\ttest: 0.9614981\tbest: 0.9614987 (2390)\ttotal: 7m 36s\tremaining: 5m 4s\n",
      "2500:\ttest: 0.9614966\tbest: 0.9615010 (2448)\ttotal: 7m 55s\tremaining: 4m 44s\n",
      "2600:\ttest: 0.9615239\tbest: 0.9615248 (2599)\ttotal: 8m 14s\tremaining: 4m 25s\n",
      "2700:\ttest: 0.9615236\tbest: 0.9615272 (2621)\ttotal: 8m 33s\tremaining: 4m 6s\n",
      "2800:\ttest: 0.9615390\tbest: 0.9615390 (2800)\ttotal: 8m 52s\tremaining: 3m 47s\n",
      "2900:\ttest: 0.9615616\tbest: 0.9615620 (2899)\ttotal: 9m 10s\tremaining: 3m 28s\n",
      "3000:\ttest: 0.9615828\tbest: 0.9615850 (2977)\ttotal: 9m 29s\tremaining: 3m 9s\n",
      "3100:\ttest: 0.9615888\tbest: 0.9615890 (3099)\ttotal: 9m 48s\tremaining: 2m 50s\n",
      "3200:\ttest: 0.9615978\tbest: 0.9615981 (3199)\ttotal: 10m 7s\tremaining: 2m 31s\n",
      "3300:\ttest: 0.9616105\tbest: 0.9616140 (3295)\ttotal: 10m 26s\tremaining: 2m 12s\n",
      "3400:\ttest: 0.9616021\tbest: 0.9616140 (3295)\ttotal: 10m 45s\tremaining: 1m 53s\n",
      "3500:\ttest: 0.9616065\tbest: 0.9616140 (3295)\ttotal: 11m 4s\tremaining: 1m 34s\n",
      "3600:\ttest: 0.9616301\tbest: 0.9616309 (3594)\ttotal: 11m 24s\tremaining: 1m 15s\n",
      "3700:\ttest: 0.9616483\tbest: 0.9616483 (3700)\ttotal: 11m 43s\tremaining: 56.8s\n",
      "3800:\ttest: 0.9616590\tbest: 0.9616590 (3800)\ttotal: 12m 2s\tremaining: 37.8s\n",
      "3900:\ttest: 0.9616631\tbest: 0.9616671 (3842)\ttotal: 12m 22s\tremaining: 18.8s\n",
      "3999:\ttest: 0.9616788\tbest: 0.9616793 (3998)\ttotal: 12m 41s\tremaining: 0us\n",
      "\n",
      "bestTest = 0.961679278\n",
      "bestIteration = 3998\n",
      "\n",
      "Shrink model to first 3999 iterations.\n",
      "\u001b[32m\u001b[1mFold 3 | 13:49 |  3998 trees |                Score = 0.79444\u001b[0m\n"
     ]
    },
    {
     "data": {
      "application/vnd.jupyter.widget-view+json": {
       "model_id": "73c370b565d8403fbe2d0194f1e67ccf",
       "version_major": 2,
       "version_minor": 0
      },
      "text/plain": [
       "MetricVisualizer(layout=Layout(align_self='stretch', height='500px'))"
      ]
     },
     "metadata": {},
     "output_type": "display_data"
    },
    {
     "name": "stdout",
     "output_type": "stream",
     "text": [
      "0:\ttest: 0.9288983\tbest: 0.9288983 (0)\ttotal: 302ms\tremaining: 20m 6s\n",
      "100:\ttest: 0.9552982\tbest: 0.9552982 (100)\ttotal: 20.3s\tremaining: 13m 5s\n",
      "200:\ttest: 0.9574110\tbest: 0.9574110 (200)\ttotal: 39.6s\tremaining: 12m 29s\n",
      "300:\ttest: 0.9584160\tbest: 0.9584160 (300)\ttotal: 59.7s\tremaining: 12m 14s\n",
      "400:\ttest: 0.9590628\tbest: 0.9590628 (400)\ttotal: 1m 19s\tremaining: 11m 50s\n",
      "500:\ttest: 0.9594156\tbest: 0.9594156 (500)\ttotal: 1m 38s\tremaining: 11m 25s\n",
      "600:\ttest: 0.9596658\tbest: 0.9596658 (600)\ttotal: 1m 57s\tremaining: 11m 3s\n",
      "700:\ttest: 0.9598382\tbest: 0.9598395 (699)\ttotal: 2m 16s\tremaining: 10m 42s\n",
      "800:\ttest: 0.9599812\tbest: 0.9599812 (800)\ttotal: 2m 35s\tremaining: 10m 21s\n",
      "900:\ttest: 0.9600740\tbest: 0.9600740 (900)\ttotal: 2m 54s\tremaining: 10m 1s\n",
      "1000:\ttest: 0.9601176\tbest: 0.9601176 (1000)\ttotal: 3m 12s\tremaining: 9m 38s\n",
      "1100:\ttest: 0.9601811\tbest: 0.9601811 (1100)\ttotal: 3m 32s\tremaining: 9m 18s\n",
      "1200:\ttest: 0.9602264\tbest: 0.9602264 (1200)\ttotal: 3m 50s\tremaining: 8m 58s\n",
      "1300:\ttest: 0.9602858\tbest: 0.9602858 (1300)\ttotal: 4m 9s\tremaining: 8m 38s\n",
      "1400:\ttest: 0.9603314\tbest: 0.9603314 (1400)\ttotal: 4m 28s\tremaining: 8m 18s\n",
      "1500:\ttest: 0.9603486\tbest: 0.9603513 (1469)\ttotal: 4m 47s\tremaining: 7m 58s\n",
      "1600:\ttest: 0.9603997\tbest: 0.9603999 (1599)\ttotal: 5m 6s\tremaining: 7m 38s\n",
      "1700:\ttest: 0.9604266\tbest: 0.9604273 (1697)\ttotal: 5m 24s\tremaining: 7m 18s\n",
      "1800:\ttest: 0.9604588\tbest: 0.9604605 (1798)\ttotal: 5m 43s\tremaining: 6m 59s\n",
      "1900:\ttest: 0.9604836\tbest: 0.9604836 (1900)\ttotal: 6m 1s\tremaining: 6m 39s\n",
      "2000:\ttest: 0.9604961\tbest: 0.9604994 (1964)\ttotal: 6m 20s\tremaining: 6m 20s\n",
      "2100:\ttest: 0.9605065\tbest: 0.9605065 (2100)\ttotal: 6m 39s\tremaining: 6m 1s\n",
      "2200:\ttest: 0.9605431\tbest: 0.9605434 (2198)\ttotal: 6m 58s\tremaining: 5m 42s\n",
      "2300:\ttest: 0.9605681\tbest: 0.9605719 (2293)\ttotal: 7m 17s\tremaining: 5m 22s\n",
      "2400:\ttest: 0.9605758\tbest: 0.9605800 (2385)\ttotal: 7m 36s\tremaining: 5m 3s\n",
      "2500:\ttest: 0.9605898\tbest: 0.9605930 (2461)\ttotal: 7m 55s\tremaining: 4m 45s\n",
      "2600:\ttest: 0.9605819\tbest: 0.9605930 (2461)\ttotal: 8m 14s\tremaining: 4m 26s\n",
      "2700:\ttest: 0.9606078\tbest: 0.9606083 (2697)\ttotal: 8m 33s\tremaining: 4m 7s\n",
      "2800:\ttest: 0.9606257\tbest: 0.9606257 (2800)\ttotal: 8m 53s\tremaining: 3m 48s\n",
      "2900:\ttest: 0.9606224\tbest: 0.9606319 (2827)\ttotal: 9m 12s\tremaining: 3m 29s\n",
      "3000:\ttest: 0.9606276\tbest: 0.9606364 (2979)\ttotal: 9m 31s\tremaining: 3m 10s\n",
      "3100:\ttest: 0.9606329\tbest: 0.9606364 (2979)\ttotal: 9m 51s\tremaining: 2m 51s\n",
      "3200:\ttest: 0.9606338\tbest: 0.9606370 (3188)\ttotal: 10m 10s\tremaining: 2m 32s\n",
      "3300:\ttest: 0.9606338\tbest: 0.9606370 (3188)\ttotal: 10m 30s\tremaining: 2m 13s\n",
      "3400:\ttest: 0.9606369\tbest: 0.9606385 (3359)\ttotal: 10m 50s\tremaining: 1m 54s\n",
      "3500:\ttest: 0.9606428\tbest: 0.9606432 (3491)\ttotal: 11m 9s\tremaining: 1m 35s\n",
      "3600:\ttest: 0.9606455\tbest: 0.9606481 (3514)\ttotal: 11m 28s\tremaining: 1m 16s\n",
      "3700:\ttest: 0.9606437\tbest: 0.9606481 (3514)\ttotal: 11m 47s\tremaining: 57.2s\n",
      "3800:\ttest: 0.9606528\tbest: 0.9606540 (3779)\ttotal: 12m 7s\tremaining: 38.1s\n",
      "3900:\ttest: 0.9606573\tbest: 0.9606594 (3898)\ttotal: 12m 27s\tremaining: 19s\n",
      "3999:\ttest: 0.9606728\tbest: 0.9606731 (3975)\ttotal: 12m 47s\tremaining: 0us\n",
      "\n",
      "bestTest = 0.9606730717\n",
      "bestIteration = 3975\n",
      "\n",
      "Shrink model to first 3976 iterations.\n",
      "\u001b[32m\u001b[1mFold 4 | 13:56 |  3975 trees |                Score = 0.78836\u001b[0m\n",
      "\u001b[31m\u001b[1mOOF Score:   0.79305\u001b[0m\n"
     ]
    }
   ],
   "source": [
    "score_list = []\n",
    "kf = StratifiedKFold(n_splits=CFG['num_folds'], random_state=CFG['seed'], shuffle=True)\n",
    "for fold, (idx_tr, idx_va) in enumerate(kf.split(train_data, target)):\n",
    "    start_time = datetime.datetime.now()\n",
    "    X_tr, X_va = train_data.iloc[idx_tr], train_data.iloc[idx_va]\n",
    "    y_tr, y_va = target.iloc[idx_tr], target.iloc[idx_va]\n",
    "    \n",
    "    model = CatBoostClassifier(\n",
    "        depth=CFG['catboost']['depth'],\n",
    "        iterations=CFG['catboost']['iterations'],\n",
    "        learning_rate=CFG['catboost']['learning_rate'],\n",
    "        eval_metric='AUC',\n",
    "        random_seed=CFG['seed'],\n",
    "        thread_count=6,\n",
    "        early_stopping_rounds=300\n",
    "    )\n",
    "    \n",
    "    model.fit(Pool(X_tr, y_tr, cat_features=cat_features),\n",
    "              eval_set=Pool(X_va, y_va, cat_features=cat_features),\n",
    "              verbose=100, plot=True)\n",
    "    model.save_model(f'models/catboost_{fold}.cbm')\n",
    "\n",
    "    y_va_pred = model.predict_proba(Pool(X_va, cat_features=cat_features))[:,1]\n",
    "    score = amex_metric(y_va.values, y_va_pred)\n",
    "    n_trees = model.best_iteration_\n",
    "    if n_trees is None: n_trees = model.n_estimators\n",
    "    print(f\"{Fore.GREEN}{Style.BRIGHT}Fold {fold} | {str(datetime.datetime.now() - start_time)[-12:-7]} |\"\n",
    "          f\" {n_trees:5} trees |\"\n",
    "          f\"                Score = {score:.5f}{Style.RESET_ALL}\")\n",
    "    score_list.append(score)\n",
    "    \n",
    "    gc.collect()\n",
    "\n",
    "print(f\"{Fore.RED}{Style.BRIGHT}OOF Score:   {np.mean(score_list):.5f}{Style.RESET_ALL}\")"
   ]
  },
  {
   "cell_type": "code",
   "execution_count": 9,
   "metadata": {},
   "outputs": [
    {
     "data": {
      "image/png": "[encoded data removed]",
      "text/plain": [
       "<Figure size 720x288 with 1 Axes>"
      ]
     },
     "metadata": {
      "needs_background": "light"
     },
     "output_type": "display_data"
    }
   ],
   "source": [
    "plt.figure(figsize=(10, 4))\n",
    "plt.hist(y_va_pred[y_va == 0], bins=np.linspace(0, 1, 21),\n",
    "         alpha=0.5, density=True, label='0')\n",
    "plt.hist(y_va_pred[y_va == 1], bins=np.linspace(0, 1, 21),\n",
    "         alpha=0.5, density=True, label='1')\n",
    "plt.xlabel('y_pred')\n",
    "plt.ylabel('density')\n",
    "plt.title('OOF Prediction histogram', color='k')\n",
    "plt.legend()\n",
    "plt.show()"
   ]
  },
  {
   "cell_type": "code",
   "execution_count": 10,
   "metadata": {},
   "outputs": [
    {
     "data": {
      "image/png": "[encoded data removed]",
      "text/plain": [
       "<Figure size 864x288 with 1 Axes>"
      ]
     },
     "metadata": {
      "needs_background": "light"
     },
     "output_type": "display_data"
    }
   ],
   "source": [
    "plt.figure(figsize=(12, 4))\n",
    "CalibrationDisplay.from_predictions(y_va, y_va_pred, n_bins=50, strategy='quantile', ax=plt.gca())\n",
    "plt.title('Probability calibration')\n",
    "plt.show()"
   ]
  },
  {
   "cell_type": "code",
   "execution_count": null,
   "metadata": {},
   "outputs": [],
   "source": []
  }
 ],
 "metadata": {
  "interpreter": {
   "hash": "e6fd9c2d9edb101385e14f9ad6c1fa6574aa43a11b0523b915a94f636b6fe7dc"
  },
  "kernelspec": {
   "display_name": "Python 3.8.12 ('venv': venv)",
   "language": "python",
   "name": "python3"
  },
  "language_info": {
   "codemirror_mode": {
    "name": "ipython",
    "version": 3
   },
   "file_extension": ".py",
   "mimetype": "text/x-python",
   "name": "python",
   "nbconvert_exporter": "python",
   "pygments_lexer": "ipython3",
   "version": "3.8.12"
  },
  "orig_nbformat": 4
 },
 "nbformat": 4,
 "nbformat_minor": 2
}

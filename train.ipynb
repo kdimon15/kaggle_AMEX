{
 "cells": [
  {
   "cell_type": "code",
   "execution_count": 1,
   "metadata": {},
   "outputs": [],
   "source": [
    "import numpy as np\n",
    "import pandas as pd\n",
    "import matplotlib.pyplot as plt\n",
    "from matplotlib.ticker import MaxNLocator\n",
    "from matplotlib.colors import ListedColormap\n",
    "import seaborn as sns\n",
    "from cycler import cycler\n",
    "from IPython.display import display\n",
    "import datetime\n",
    "import warnings\n",
    "from colorama import Fore, Style\n",
    "import gc\n",
    "import pickle\n",
    "\n",
    "from sklearn.model_selection import StratifiedKFold\n",
    "from sklearn.calibration import CalibrationDisplay\n",
    "import lightgbm\n",
    "from catboost import Pool, CatBoostClassifier\n",
    "from sklearn.preprocessing import LabelEncoder\n",
    "import catboost\n",
    "from utils import get_data, amex_metric\n",
    "import ipywidgets\n",
    "\n",
    "\n",
    "plt.rcParams['axes.facecolor'] = '#0057b8' # blue\n",
    "plt.rcParams['axes.prop_cycle'] = cycler(color=['#ffd700'] +\n",
    "                                         plt.rcParams['axes.prop_cycle'].by_key()['color'][1:])\n",
    "plt.rcParams['text.color'] = 'w'"
   ]
  },
  {
   "cell_type": "code",
   "execution_count": 2,
   "metadata": {},
   "outputs": [],
   "source": [
    "CFG = {\n",
    "    'num_folds': 5,\n",
    "\n",
    "    'catboost': {\n",
    "        'depth': 6,\n",
    "        'iterations': 4000,\n",
    "        'learning_rate': 0.04,\n",
    "    },\n",
    "\n",
    "    'seed': 777\n",
    "}"
   ]
  },
  {
   "cell_type": "code",
   "execution_count": 3,
   "metadata": {},
   "outputs": [
    {
     "name": "stderr",
     "output_type": "stream",
     "text": [
      "/Users/dmitrykutsenko/Desktop/My_python/Kaggle_amex/utils.py:65: PerformanceWarning: DataFrame is highly fragmented.  This is usually the result of calling `frame.insert` many times, which has poor performance.  Consider joining all columns at once using pd.concat(axis=1) instead. To get a de-fragmented frame, use `newframe = frame.copy()`\n",
      "  data['month'] = (data['date'].dt.year - 2017)*12+data['date'].dt.month\n",
      "/Users/dmitrykutsenko/Desktop/My_python/Kaggle_amex/utils.py:66: PerformanceWarning: DataFrame is highly fragmented.  This is usually the result of calling `frame.insert` many times, which has poor performance.  Consider joining all columns at once using pd.concat(axis=1) instead. To get a de-fragmented frame, use `newframe = frame.copy()`\n",
      "  data['rank'] = data.groupby('customer_ID')['month'].rank(ascending=False)\n"
     ]
    }
   ],
   "source": [
    "train_data, target, cat_features = get_data('data/train_data.ftr', train=True)"
   ]
  },
  {
   "cell_type": "code",
   "execution_count": 6,
   "metadata": {},
   "outputs": [
    {
     "name": "stdout",
     "output_type": "stream",
     "text": [
      "Learning rate set to 0.074722\n",
      "0:\tlearn: 0.6037132\ttotal: 796ms\tremaining: 26m 31s\n",
      "100:\tlearn: 0.2266463\ttotal: 59.3s\tremaining: 18m 35s\n",
      "200:\tlearn: 0.2198518\ttotal: 1m 55s\tremaining: 17m 13s\n",
      "300:\tlearn: 0.2153624\ttotal: 2m 50s\tremaining: 16m 4s\n",
      "400:\tlearn: 0.2121516\ttotal: 3m 44s\tremaining: 14m 55s\n",
      "500:\tlearn: 0.2092700\ttotal: 4m 38s\tremaining: 13m 52s\n",
      "600:\tlearn: 0.2069096\ttotal: 5m 30s\tremaining: 12m 50s\n",
      "700:\tlearn: 0.2047279\ttotal: 6m 21s\tremaining: 11m 46s\n",
      "800:\tlearn: 0.2028281\ttotal: 7m 12s\tremaining: 10m 47s\n",
      "900:\tlearn: 0.2008017\ttotal: 8m 4s\tremaining: 9m 51s\n",
      "1000:\tlearn: 0.1988321\ttotal: 8m 56s\tremaining: 8m 55s\n",
      "1100:\tlearn: 0.1968763\ttotal: 9m 49s\tremaining: 8m 1s\n",
      "1200:\tlearn: 0.1950933\ttotal: 10m 41s\tremaining: 7m 6s\n",
      "1300:\tlearn: 0.1933606\ttotal: 11m 31s\tremaining: 6m 11s\n",
      "1400:\tlearn: 0.1916250\ttotal: 12m 23s\tremaining: 5m 17s\n",
      "1500:\tlearn: 0.1899267\ttotal: 13m 14s\tremaining: 4m 24s\n",
      "1600:\tlearn: 0.1881220\ttotal: 14m 7s\tremaining: 3m 31s\n",
      "1700:\tlearn: 0.1864285\ttotal: 15m\tremaining: 2m 38s\n",
      "1800:\tlearn: 0.1847783\ttotal: 15m 51s\tremaining: 1m 45s\n",
      "1900:\tlearn: 0.1831738\ttotal: 16m 44s\tremaining: 52.3s\n",
      "1999:\tlearn: 0.1816518\ttotal: 17m 36s\tremaining: 0us\n"
     ]
    },
    {
     "data": {
      "text/plain": [
       "<catboost.core.CatBoostClassifier at 0x1561d8520>"
      ]
     },
     "execution_count": 6,
     "metadata": {},
     "output_type": "execute_result"
    }
   ],
   "source": [
    "model = CatBoostClassifier(\n",
    "    depth=CFG['catboost']['depth'],\n",
    "    iterations=2000,\n",
    "    #learning_rate=CFG['catboost']['learning_rate'],\n",
    "    custom_metric='AUC',\n",
    "    random_seed=CFG['seed'],\n",
    "    thread_count=6,\n",
    "    early_stopping_rounds=300\n",
    ")\n",
    "model.fit(Pool(train_data, target, cat_features=cat_features), verbose=100)"
   ]
  },
  {
   "cell_type": "code",
   "execution_count": 7,
   "metadata": {},
   "outputs": [],
   "source": [
    "feature_imp = model.get_feature_importance()\n",
    "bad_cols = [train_data.columns[i] for i in range(len(train_data.columns)) if feature_imp[i] < 0.03]\n",
    "train_data.drop(bad_cols, axis=1, inplace=True)\n",
    "cat_features = [x for x in cat_features if x in train_data.columns.tolist()]\n",
    "\n",
    "with open('models/feature_list.pkl', 'wb') as f:\n",
    "    pickle.dump([train_data.columns.tolist(), cat_features], f)"
   ]
  },
  {
   "cell_type": "code",
   "execution_count": 8,
   "metadata": {},
   "outputs": [
    {
     "data": {
      "application/vnd.jupyter.widget-view+json": {
       "model_id": "a53fa2bee65441bc93539a9e674fa984",
       "version_major": 2,
       "version_minor": 0
      },
      "text/plain": [
       "MetricVisualizer(layout=Layout(align_self='stretch', height='500px'))"
      ]
     },
     "metadata": {},
     "output_type": "display_data"
    },
    {
     "name": "stdout",
     "output_type": "stream",
     "text": [
      "0:\ttest: 0.9312518\tbest: 0.9312518 (0)\ttotal: 269ms\tremaining: 17m 53s\n",
      "100:\ttest: 0.9569220\tbest: 0.9569220 (100)\ttotal: 21.9s\tremaining: 14m 4s\n",
      "200:\ttest: 0.9590169\tbest: 0.9590169 (200)\ttotal: 43.4s\tremaining: 13m 39s\n",
      "300:\ttest: 0.9599910\tbest: 0.9599910 (300)\ttotal: 1m 4s\tremaining: 13m 14s\n",
      "400:\ttest: 0.9606487\tbest: 0.9606487 (400)\ttotal: 1m 25s\tremaining: 12m 49s\n",
      "500:\ttest: 0.9610583\tbest: 0.9610583 (500)\ttotal: 1m 46s\tremaining: 12m 25s\n",
      "600:\ttest: 0.9613614\tbest: 0.9613614 (600)\ttotal: 2m 7s\tremaining: 12m 1s\n",
      "700:\ttest: 0.9615580\tbest: 0.9615580 (700)\ttotal: 2m 28s\tremaining: 11m 36s\n",
      "800:\ttest: 0.9617105\tbest: 0.9617105 (800)\ttotal: 2m 48s\tremaining: 11m 14s\n",
      "900:\ttest: 0.9618308\tbest: 0.9618308 (900)\ttotal: 3m 9s\tremaining: 10m 51s\n",
      "1000:\ttest: 0.9619331\tbest: 0.9619331 (1000)\ttotal: 3m 29s\tremaining: 10m 28s\n",
      "1100:\ttest: 0.9620180\tbest: 0.9620187 (1098)\ttotal: 3m 50s\tremaining: 10m 6s\n",
      "1200:\ttest: 0.9620766\tbest: 0.9620779 (1199)\ttotal: 4m 10s\tremaining: 9m 43s\n",
      "1300:\ttest: 0.9621270\tbest: 0.9621270 (1300)\ttotal: 4m 31s\tremaining: 9m 22s\n",
      "1400:\ttest: 0.9621687\tbest: 0.9621687 (1400)\ttotal: 4m 51s\tremaining: 9m 1s\n",
      "1500:\ttest: 0.9622138\tbest: 0.9622149 (1494)\ttotal: 5m 12s\tremaining: 8m 39s\n",
      "1600:\ttest: 0.9622571\tbest: 0.9622592 (1596)\ttotal: 5m 32s\tremaining: 8m 18s\n",
      "1700:\ttest: 0.9622982\tbest: 0.9622982 (1700)\ttotal: 5m 53s\tremaining: 7m 57s\n",
      "1800:\ttest: 0.9623326\tbest: 0.9623326 (1800)\ttotal: 6m 13s\tremaining: 7m 36s\n",
      "1900:\ttest: 0.9623627\tbest: 0.9623627 (1900)\ttotal: 6m 34s\tremaining: 7m 15s\n",
      "2000:\ttest: 0.9623999\tbest: 0.9624004 (1999)\ttotal: 6m 55s\tremaining: 6m 54s\n",
      "2100:\ttest: 0.9624390\tbest: 0.9624391 (2094)\ttotal: 7m 15s\tremaining: 6m 34s\n",
      "2200:\ttest: 0.9624440\tbest: 0.9624521 (2140)\ttotal: 7m 36s\tremaining: 6m 12s\n",
      "2300:\ttest: 0.9624702\tbest: 0.9624702 (2300)\ttotal: 7m 56s\tremaining: 5m 52s\n",
      "2400:\ttest: 0.9625089\tbest: 0.9625120 (2398)\ttotal: 8m 17s\tremaining: 5m 31s\n",
      "2500:\ttest: 0.9625439\tbest: 0.9625489 (2494)\ttotal: 8m 38s\tremaining: 5m 10s\n",
      "2600:\ttest: 0.9625568\tbest: 0.9625570 (2599)\ttotal: 8m 59s\tremaining: 4m 49s\n",
      "2700:\ttest: 0.9625646\tbest: 0.9625683 (2688)\ttotal: 9m 20s\tremaining: 4m 29s\n",
      "2800:\ttest: 0.9625829\tbest: 0.9625835 (2799)\ttotal: 9m 40s\tremaining: 4m 8s\n",
      "2900:\ttest: 0.9625997\tbest: 0.9626008 (2890)\ttotal: 10m 1s\tremaining: 3m 48s\n",
      "3000:\ttest: 0.9626167\tbest: 0.9626197 (2996)\ttotal: 10m 22s\tremaining: 3m 27s\n",
      "3100:\ttest: 0.9626383\tbest: 0.9626394 (3099)\ttotal: 10m 43s\tremaining: 3m 6s\n",
      "3200:\ttest: 0.9626469\tbest: 0.9626469 (3200)\ttotal: 11m 4s\tremaining: 2m 45s\n",
      "3300:\ttest: 0.9626440\tbest: 0.9626474 (3294)\ttotal: 11m 25s\tremaining: 2m 25s\n",
      "3400:\ttest: 0.9626457\tbest: 0.9626480 (3358)\ttotal: 11m 46s\tremaining: 2m 4s\n",
      "3500:\ttest: 0.9626459\tbest: 0.9626480 (3358)\ttotal: 12m 7s\tremaining: 1m 43s\n",
      "3600:\ttest: 0.9626579\tbest: 0.9626637 (3587)\ttotal: 12m 28s\tremaining: 1m 22s\n",
      "3700:\ttest: 0.9626622\tbest: 0.9626637 (3587)\ttotal: 12m 49s\tremaining: 1m 2s\n",
      "3800:\ttest: 0.9626563\tbest: 0.9626649 (3707)\ttotal: 13m 10s\tremaining: 41.4s\n",
      "3900:\ttest: 0.9626630\tbest: 0.9626676 (3887)\ttotal: 13m 30s\tremaining: 20.6s\n",
      "3999:\ttest: 0.9626696\tbest: 0.9626705 (3984)\ttotal: 13m 51s\tremaining: 0us\n",
      "\n",
      "bestTest = 0.9626705006\n",
      "bestIteration = 3984\n",
      "\n",
      "Shrink model to first 3985 iterations.\n",
      "\u001b[32m\u001b[1mFold 0 | 14:47 |  3984 trees |                Score = 0.79666\u001b[0m\n"
     ]
    },
    {
     "data": {
      "application/vnd.jupyter.widget-view+json": {
       "model_id": "02779748b25a4791b062e39794f09297",
       "version_major": 2,
       "version_minor": 0
      },
      "text/plain": [
       "MetricVisualizer(layout=Layout(align_self='stretch', height='500px'))"
      ]
     },
     "metadata": {},
     "output_type": "display_data"
    },
    {
     "name": "stdout",
     "output_type": "stream",
     "text": [
      "0:\ttest: 0.9297411\tbest: 0.9297411 (0)\ttotal: 301ms\tremaining: 20m 4s\n",
      "100:\ttest: 0.9555504\tbest: 0.9555504 (100)\ttotal: 22.1s\tremaining: 14m 14s\n",
      "200:\ttest: 0.9578197\tbest: 0.9578197 (200)\ttotal: 43.3s\tremaining: 13m 37s\n",
      "300:\ttest: 0.9588484\tbest: 0.9588484 (300)\ttotal: 1m 4s\tremaining: 13m 6s\n",
      "400:\ttest: 0.9595192\tbest: 0.9595192 (400)\ttotal: 1m 25s\tremaining: 12m 43s\n",
      "500:\ttest: 0.9599289\tbest: 0.9599289 (500)\ttotal: 1m 45s\tremaining: 12m 19s\n",
      "600:\ttest: 0.9602185\tbest: 0.9602185 (600)\ttotal: 2m 6s\tremaining: 11m 56s\n",
      "700:\ttest: 0.9604016\tbest: 0.9604016 (700)\ttotal: 2m 27s\tremaining: 11m 32s\n",
      "800:\ttest: 0.9605805\tbest: 0.9605805 (800)\ttotal: 2m 47s\tremaining: 11m 9s\n",
      "900:\ttest: 0.9607161\tbest: 0.9607161 (900)\ttotal: 3m 8s\tremaining: 10m 46s\n",
      "1000:\ttest: 0.9608117\tbest: 0.9608117 (1000)\ttotal: 3m 28s\tremaining: 10m 24s\n",
      "1100:\ttest: 0.9608962\tbest: 0.9608967 (1099)\ttotal: 3m 48s\tremaining: 10m 1s\n",
      "1200:\ttest: 0.9609744\tbest: 0.9609744 (1200)\ttotal: 4m 9s\tremaining: 9m 40s\n",
      "1300:\ttest: 0.9610651\tbest: 0.9610651 (1300)\ttotal: 4m 29s\tremaining: 9m 19s\n",
      "1400:\ttest: 0.9611135\tbest: 0.9611135 (1399)\ttotal: 4m 49s\tremaining: 8m 57s\n",
      "1500:\ttest: 0.9611676\tbest: 0.9611676 (1500)\ttotal: 5m 10s\tremaining: 8m 36s\n",
      "1600:\ttest: 0.9612377\tbest: 0.9612377 (1600)\ttotal: 5m 30s\tremaining: 8m 15s\n",
      "1700:\ttest: 0.9612826\tbest: 0.9612826 (1700)\ttotal: 5m 51s\tremaining: 7m 54s\n",
      "1800:\ttest: 0.9613006\tbest: 0.9613015 (1799)\ttotal: 6m 11s\tremaining: 7m 34s\n",
      "1900:\ttest: 0.9613384\tbest: 0.9613384 (1900)\ttotal: 6m 32s\tremaining: 7m 13s\n",
      "2000:\ttest: 0.9613718\tbest: 0.9613718 (2000)\ttotal: 6m 52s\tremaining: 6m 52s\n",
      "2100:\ttest: 0.9613903\tbest: 0.9613945 (2086)\ttotal: 7m 13s\tremaining: 6m 31s\n",
      "2200:\ttest: 0.9614069\tbest: 0.9614069 (2200)\ttotal: 7m 34s\tremaining: 6m 11s\n",
      "2300:\ttest: 0.9614275\tbest: 0.9614331 (2288)\ttotal: 7m 54s\tremaining: 5m 50s\n",
      "2400:\ttest: 0.9614460\tbest: 0.9614504 (2390)\ttotal: 8m 15s\tremaining: 5m 29s\n",
      "2500:\ttest: 0.9614546\tbest: 0.9614579 (2475)\ttotal: 8m 36s\tremaining: 5m 9s\n",
      "2600:\ttest: 0.9614666\tbest: 0.9614694 (2596)\ttotal: 8m 57s\tremaining: 4m 49s\n",
      "2700:\ttest: 0.9614970\tbest: 0.9614987 (2699)\ttotal: 9m 18s\tremaining: 4m 28s\n",
      "2800:\ttest: 0.9615196\tbest: 0.9615204 (2798)\ttotal: 9m 38s\tremaining: 4m 7s\n",
      "2900:\ttest: 0.9615413\tbest: 0.9615413 (2900)\ttotal: 9m 59s\tremaining: 3m 47s\n",
      "3000:\ttest: 0.9615526\tbest: 0.9615543 (2975)\ttotal: 10m 20s\tremaining: 3m 26s\n",
      "3100:\ttest: 0.9615530\tbest: 0.9615613 (3067)\ttotal: 10m 40s\tremaining: 3m 5s\n",
      "3200:\ttest: 0.9615625\tbest: 0.9615631 (3196)\ttotal: 11m 1s\tremaining: 2m 45s\n",
      "3300:\ttest: 0.9615732\tbest: 0.9615741 (3250)\ttotal: 11m 22s\tremaining: 2m 24s\n",
      "3400:\ttest: 0.9615788\tbest: 0.9615868 (3364)\ttotal: 11m 43s\tremaining: 2m 3s\n",
      "3500:\ttest: 0.9615833\tbest: 0.9615868 (3364)\ttotal: 12m 4s\tremaining: 1m 43s\n",
      "3600:\ttest: 0.9615905\tbest: 0.9615911 (3547)\ttotal: 12m 25s\tremaining: 1m 22s\n",
      "3700:\ttest: 0.9615875\tbest: 0.9615947 (3673)\ttotal: 12m 47s\tremaining: 1m 1s\n",
      "3800:\ttest: 0.9615875\tbest: 0.9615947 (3673)\ttotal: 13m 8s\tremaining: 41.3s\n",
      "3900:\ttest: 0.9615993\tbest: 0.9616005 (3893)\ttotal: 13m 28s\tremaining: 20.5s\n",
      "3999:\ttest: 0.9615997\tbest: 0.9616019 (3936)\ttotal: 13m 49s\tremaining: 0us\n",
      "\n",
      "bestTest = 0.9616018847\n",
      "bestIteration = 3936\n",
      "\n",
      "Shrink model to first 3937 iterations.\n",
      "\u001b[32m\u001b[1mFold 1 | 14:45 |  3936 trees |                Score = 0.79249\u001b[0m\n"
     ]
    },
    {
     "data": {
      "application/vnd.jupyter.widget-view+json": {
       "model_id": "2543b673cbd54d8c924c4c6bf095d509",
       "version_major": 2,
       "version_minor": 0
      },
      "text/plain": [
       "MetricVisualizer(layout=Layout(align_self='stretch', height='500px'))"
      ]
     },
     "metadata": {},
     "output_type": "display_data"
    },
    {
     "name": "stdout",
     "output_type": "stream",
     "text": [
      "0:\ttest: 0.9308091\tbest: 0.9308091 (0)\ttotal: 261ms\tremaining: 17m 22s\n",
      "100:\ttest: 0.9564536\tbest: 0.9564536 (100)\ttotal: 22.3s\tremaining: 14m 20s\n",
      "200:\ttest: 0.9586536\tbest: 0.9586536 (200)\ttotal: 43.7s\tremaining: 13m 45s\n",
      "300:\ttest: 0.9596841\tbest: 0.9596841 (300)\ttotal: 1m 4s\tremaining: 13m 15s\n",
      "400:\ttest: 0.9603984\tbest: 0.9603984 (400)\ttotal: 1m 26s\tremaining: 12m 52s\n",
      "500:\ttest: 0.9608439\tbest: 0.9608439 (500)\ttotal: 1m 47s\tremaining: 12m 28s\n",
      "600:\ttest: 0.9611555\tbest: 0.9611555 (600)\ttotal: 2m 7s\tremaining: 12m 3s\n",
      "700:\ttest: 0.9614048\tbest: 0.9614048 (700)\ttotal: 2m 28s\tremaining: 11m 39s\n",
      "800:\ttest: 0.9615718\tbest: 0.9615726 (799)\ttotal: 2m 48s\tremaining: 11m 14s\n",
      "900:\ttest: 0.9616979\tbest: 0.9616987 (899)\ttotal: 3m 9s\tremaining: 10m 51s\n",
      "1000:\ttest: 0.9618225\tbest: 0.9618228 (999)\ttotal: 3m 30s\tremaining: 10m 29s\n",
      "1100:\ttest: 0.9619030\tbest: 0.9619030 (1100)\ttotal: 3m 50s\tremaining: 10m 6s\n",
      "1200:\ttest: 0.9619983\tbest: 0.9619983 (1200)\ttotal: 4m 11s\tremaining: 9m 44s\n",
      "1300:\ttest: 0.9620471\tbest: 0.9620483 (1298)\ttotal: 4m 31s\tremaining: 9m 23s\n",
      "1400:\ttest: 0.9621114\tbest: 0.9621114 (1400)\ttotal: 4m 52s\tremaining: 9m 1s\n",
      "1500:\ttest: 0.9621866\tbest: 0.9621866 (1500)\ttotal: 5m 12s\tremaining: 8m 40s\n",
      "1600:\ttest: 0.9622323\tbest: 0.9622323 (1600)\ttotal: 5m 32s\tremaining: 8m 18s\n",
      "1700:\ttest: 0.9622806\tbest: 0.9622806 (1700)\ttotal: 5m 53s\tremaining: 7m 57s\n",
      "1800:\ttest: 0.9623214\tbest: 0.9623221 (1798)\ttotal: 6m 14s\tremaining: 7m 36s\n",
      "1900:\ttest: 0.9623430\tbest: 0.9623433 (1897)\ttotal: 6m 34s\tremaining: 7m 15s\n",
      "2000:\ttest: 0.9623658\tbest: 0.9623658 (2000)\ttotal: 6m 55s\tremaining: 6m 54s\n",
      "2100:\ttest: 0.9623880\tbest: 0.9623917 (2094)\ttotal: 7m 16s\tremaining: 6m 34s\n",
      "2200:\ttest: 0.9624011\tbest: 0.9624075 (2188)\ttotal: 7m 36s\tremaining: 6m 13s\n",
      "2300:\ttest: 0.9624163\tbest: 0.9624163 (2300)\ttotal: 7m 57s\tremaining: 5m 52s\n",
      "2400:\ttest: 0.9624426\tbest: 0.9624434 (2398)\ttotal: 8m 18s\tremaining: 5m 31s\n",
      "2500:\ttest: 0.9624694\tbest: 0.9624694 (2500)\ttotal: 8m 39s\tremaining: 5m 11s\n",
      "2600:\ttest: 0.9624853\tbest: 0.9624885 (2594)\ttotal: 9m\tremaining: 4m 50s\n",
      "2700:\ttest: 0.9625053\tbest: 0.9625053 (2700)\ttotal: 9m 21s\tremaining: 4m 29s\n",
      "2800:\ttest: 0.9625182\tbest: 0.9625190 (2786)\ttotal: 9m 42s\tremaining: 4m 9s\n",
      "2900:\ttest: 0.9625351\tbest: 0.9625389 (2889)\ttotal: 10m 3s\tremaining: 3m 48s\n",
      "3000:\ttest: 0.9625491\tbest: 0.9625494 (2999)\ttotal: 10m 23s\tremaining: 3m 27s\n",
      "3100:\ttest: 0.9625547\tbest: 0.9625578 (3052)\ttotal: 10m 44s\tremaining: 3m 6s\n",
      "3200:\ttest: 0.9625615\tbest: 0.9625615 (3200)\ttotal: 11m 5s\tremaining: 2m 46s\n",
      "3300:\ttest: 0.9625897\tbest: 0.9625907 (3299)\ttotal: 11m 26s\tremaining: 2m 25s\n",
      "3400:\ttest: 0.9626028\tbest: 0.9626028 (3400)\ttotal: 11m 47s\tremaining: 2m 4s\n",
      "3500:\ttest: 0.9626099\tbest: 0.9626169 (3423)\ttotal: 12m 8s\tremaining: 1m 43s\n",
      "3600:\ttest: 0.9625997\tbest: 0.9626169 (3423)\ttotal: 12m 29s\tremaining: 1m 23s\n",
      "3700:\ttest: 0.9625917\tbest: 0.9626169 (3423)\ttotal: 12m 51s\tremaining: 1m 2s\n",
      "Stopped by overfitting detector  (300 iterations wait)\n",
      "\n",
      "bestTest = 0.9626168931\n",
      "bestIteration = 3423\n",
      "\n",
      "Shrink model to first 3424 iterations.\n",
      "\u001b[32m\u001b[1mFold 2 | 13:51 |  3423 trees |                Score = 0.79532\u001b[0m\n"
     ]
    },
    {
     "data": {
      "application/vnd.jupyter.widget-view+json": {
       "model_id": "67eb57f01b334e4c942dd9b2e27b3b0f",
       "version_major": 2,
       "version_minor": 0
      },
      "text/plain": [
       "MetricVisualizer(layout=Layout(align_self='stretch', height='500px'))"
      ]
     },
     "metadata": {},
     "output_type": "display_data"
    },
    {
     "name": "stdout",
     "output_type": "stream",
     "text": [
      "0:\ttest: 0.9302891\tbest: 0.9302891 (0)\ttotal: 268ms\tremaining: 17m 51s\n",
      "100:\ttest: 0.9561181\tbest: 0.9561181 (100)\ttotal: 22.3s\tremaining: 14m 20s\n",
      "200:\ttest: 0.9582577\tbest: 0.9582577 (200)\ttotal: 43.2s\tremaining: 13m 35s\n",
      "300:\ttest: 0.9592460\tbest: 0.9592460 (300)\ttotal: 1m 4s\tremaining: 13m 8s\n",
      "400:\ttest: 0.9598902\tbest: 0.9598902 (400)\ttotal: 1m 25s\tremaining: 12m 47s\n",
      "500:\ttest: 0.9603035\tbest: 0.9603035 (500)\ttotal: 1m 46s\tremaining: 12m 23s\n",
      "600:\ttest: 0.9605654\tbest: 0.9605654 (600)\ttotal: 2m 7s\tremaining: 12m\n",
      "700:\ttest: 0.9607534\tbest: 0.9607534 (700)\ttotal: 2m 28s\tremaining: 11m 37s\n",
      "800:\ttest: 0.9608999\tbest: 0.9608999 (800)\ttotal: 2m 48s\tremaining: 11m 13s\n",
      "900:\ttest: 0.9610293\tbest: 0.9610293 (900)\ttotal: 3m 9s\tremaining: 10m 51s\n",
      "1000:\ttest: 0.9611080\tbest: 0.9611080 (1000)\ttotal: 3m 29s\tremaining: 10m 28s\n",
      "1100:\ttest: 0.9611877\tbest: 0.9611889 (1098)\ttotal: 3m 50s\tremaining: 10m 6s\n",
      "1200:\ttest: 0.9612729\tbest: 0.9612734 (1196)\ttotal: 4m 11s\tremaining: 9m 45s\n",
      "1300:\ttest: 0.9613504\tbest: 0.9613504 (1300)\ttotal: 4m 31s\tremaining: 9m 24s\n",
      "1400:\ttest: 0.9614169\tbest: 0.9614169 (1400)\ttotal: 4m 52s\tremaining: 9m 2s\n",
      "1500:\ttest: 0.9614880\tbest: 0.9614891 (1498)\ttotal: 5m 13s\tremaining: 8m 41s\n",
      "1600:\ttest: 0.9615098\tbest: 0.9615156 (1592)\ttotal: 5m 34s\tremaining: 8m 20s\n",
      "1700:\ttest: 0.9615663\tbest: 0.9615663 (1699)\ttotal: 5m 55s\tremaining: 7m 59s\n",
      "1800:\ttest: 0.9615876\tbest: 0.9615876 (1800)\ttotal: 6m 15s\tremaining: 7m 39s\n",
      "1900:\ttest: 0.9616057\tbest: 0.9616057 (1900)\ttotal: 6m 36s\tremaining: 7m 17s\n",
      "2000:\ttest: 0.9616366\tbest: 0.9616367 (1998)\ttotal: 6m 57s\tremaining: 6m 56s\n",
      "2100:\ttest: 0.9616638\tbest: 0.9616638 (2100)\ttotal: 7m 17s\tremaining: 6m 35s\n",
      "2200:\ttest: 0.9616845\tbest: 0.9616852 (2199)\ttotal: 7m 38s\tremaining: 6m 14s\n",
      "2300:\ttest: 0.9617019\tbest: 0.9617025 (2298)\ttotal: 7m 59s\tremaining: 5m 53s\n",
      "2400:\ttest: 0.9617281\tbest: 0.9617281 (2400)\ttotal: 8m 19s\tremaining: 5m 32s\n",
      "2500:\ttest: 0.9617478\tbest: 0.9617478 (2500)\ttotal: 8m 40s\tremaining: 5m 12s\n",
      "2600:\ttest: 0.9617590\tbest: 0.9617626 (2577)\ttotal: 9m 1s\tremaining: 4m 51s\n",
      "2700:\ttest: 0.9617675\tbest: 0.9617695 (2697)\ttotal: 9m 22s\tremaining: 4m 30s\n",
      "2800:\ttest: 0.9617847\tbest: 0.9617847 (2800)\ttotal: 9m 43s\tremaining: 4m 9s\n",
      "2900:\ttest: 0.9617950\tbest: 0.9617987 (2891)\ttotal: 10m 4s\tremaining: 3m 48s\n",
      "3000:\ttest: 0.9618007\tbest: 0.9618053 (2939)\ttotal: 10m 25s\tremaining: 3m 28s\n",
      "3100:\ttest: 0.9618205\tbest: 0.9618207 (3095)\ttotal: 10m 46s\tremaining: 3m 7s\n",
      "3200:\ttest: 0.9618304\tbest: 0.9618399 (3166)\ttotal: 11m 7s\tremaining: 2m 46s\n",
      "3300:\ttest: 0.9618400\tbest: 0.9618423 (3277)\ttotal: 11m 28s\tremaining: 2m 25s\n",
      "3400:\ttest: 0.9618462\tbest: 0.9618471 (3394)\ttotal: 11m 49s\tremaining: 2m 4s\n",
      "3500:\ttest: 0.9618428\tbest: 0.9618472 (3402)\ttotal: 12m 10s\tremaining: 1m 44s\n",
      "3600:\ttest: 0.9618536\tbest: 0.9618556 (3599)\ttotal: 12m 31s\tremaining: 1m 23s\n",
      "3700:\ttest: 0.9618711\tbest: 0.9618716 (3662)\ttotal: 12m 52s\tremaining: 1m 2s\n",
      "3800:\ttest: 0.9618767\tbest: 0.9618794 (3787)\ttotal: 13m 14s\tremaining: 41.6s\n",
      "3900:\ttest: 0.9618870\tbest: 0.9618892 (3889)\ttotal: 13m 35s\tremaining: 20.7s\n",
      "3999:\ttest: 0.9618998\tbest: 0.9618998 (3999)\ttotal: 13m 56s\tremaining: 0us\n",
      "\n",
      "bestTest = 0.9618998043\n",
      "bestIteration = 3999\n",
      "\n",
      "\u001b[32m\u001b[1mFold 3 | 14:52 |  3999 trees |                Score = 0.79398\u001b[0m\n"
     ]
    },
    {
     "data": {
      "application/vnd.jupyter.widget-view+json": {
       "model_id": "886a0f86649f4bb78a4b142026118cd4",
       "version_major": 2,
       "version_minor": 0
      },
      "text/plain": [
       "MetricVisualizer(layout=Layout(align_self='stretch', height='500px'))"
      ]
     },
     "metadata": {},
     "output_type": "display_data"
    },
    {
     "name": "stdout",
     "output_type": "stream",
     "text": [
      "0:\ttest: 0.9291807\tbest: 0.9291807 (0)\ttotal: 277ms\tremaining: 18m 28s\n",
      "100:\ttest: 0.9552774\tbest: 0.9552774 (100)\ttotal: 22.2s\tremaining: 14m 15s\n",
      "200:\ttest: 0.9573872\tbest: 0.9573872 (200)\ttotal: 43.6s\tremaining: 13m 44s\n",
      "300:\ttest: 0.9584112\tbest: 0.9584112 (300)\ttotal: 1m 4s\tremaining: 13m 16s\n",
      "400:\ttest: 0.9590465\tbest: 0.9590465 (400)\ttotal: 1m 26s\tremaining: 12m 52s\n",
      "500:\ttest: 0.9594547\tbest: 0.9594547 (500)\ttotal: 1m 47s\tremaining: 12m 29s\n",
      "600:\ttest: 0.9597282\tbest: 0.9597282 (600)\ttotal: 2m 7s\tremaining: 12m 3s\n",
      "700:\ttest: 0.9599106\tbest: 0.9599120 (699)\ttotal: 2m 28s\tremaining: 11m 39s\n",
      "800:\ttest: 0.9600834\tbest: 0.9600834 (800)\ttotal: 2m 49s\tremaining: 11m 16s\n",
      "900:\ttest: 0.9602079\tbest: 0.9602083 (899)\ttotal: 3m 9s\tremaining: 10m 52s\n",
      "1000:\ttest: 0.9603223\tbest: 0.9603223 (1000)\ttotal: 3m 30s\tremaining: 10m 29s\n",
      "1100:\ttest: 0.9603953\tbest: 0.9603953 (1100)\ttotal: 3m 50s\tremaining: 10m 7s\n",
      "1200:\ttest: 0.9604550\tbest: 0.9604550 (1200)\ttotal: 4m 11s\tremaining: 9m 45s\n",
      "1300:\ttest: 0.9605265\tbest: 0.9605265 (1300)\ttotal: 4m 31s\tremaining: 9m 23s\n",
      "1400:\ttest: 0.9605785\tbest: 0.9605795 (1394)\ttotal: 4m 52s\tremaining: 9m 2s\n",
      "1500:\ttest: 0.9606377\tbest: 0.9606378 (1499)\ttotal: 5m 12s\tremaining: 8m 40s\n",
      "1600:\ttest: 0.9606907\tbest: 0.9606939 (1595)\ttotal: 5m 33s\tremaining: 8m 19s\n",
      "1700:\ttest: 0.9607334\tbest: 0.9607337 (1696)\ttotal: 5m 54s\tremaining: 7m 58s\n",
      "1800:\ttest: 0.9607616\tbest: 0.9607616 (1800)\ttotal: 6m 14s\tremaining: 7m 37s\n",
      "1900:\ttest: 0.9607959\tbest: 0.9607996 (1881)\ttotal: 6m 35s\tremaining: 7m 16s\n",
      "2000:\ttest: 0.9608429\tbest: 0.9608429 (2000)\ttotal: 6m 56s\tremaining: 6m 55s\n",
      "2100:\ttest: 0.9608624\tbest: 0.9608657 (2096)\ttotal: 7m 16s\tremaining: 6m 34s\n",
      "2200:\ttest: 0.9608656\tbest: 0.9608657 (2096)\ttotal: 7m 37s\tremaining: 6m 13s\n",
      "2300:\ttest: 0.9608963\tbest: 0.9608963 (2300)\ttotal: 7m 58s\tremaining: 5m 52s\n",
      "2400:\ttest: 0.9609104\tbest: 0.9609104 (2400)\ttotal: 8m 18s\tremaining: 5m 32s\n",
      "2500:\ttest: 0.9609297\tbest: 0.9609297 (2500)\ttotal: 8m 39s\tremaining: 5m 11s\n",
      "2600:\ttest: 0.9609508\tbest: 0.9609548 (2588)\ttotal: 9m\tremaining: 4m 50s\n",
      "2700:\ttest: 0.9609640\tbest: 0.9609691 (2659)\ttotal: 9m 21s\tremaining: 4m 30s\n",
      "2800:\ttest: 0.9609987\tbest: 0.9609987 (2800)\ttotal: 9m 42s\tremaining: 4m 9s\n",
      "2900:\ttest: 0.9610023\tbest: 0.9610037 (2809)\ttotal: 10m 3s\tremaining: 3m 48s\n",
      "3000:\ttest: 0.9610066\tbest: 0.9610096 (2972)\ttotal: 10m 24s\tremaining: 3m 28s\n",
      "3100:\ttest: 0.9610206\tbest: 0.9610214 (3096)\ttotal: 10m 45s\tremaining: 3m 7s\n",
      "3200:\ttest: 0.9610247\tbest: 0.9610251 (3199)\ttotal: 11m 6s\tremaining: 2m 46s\n",
      "3300:\ttest: 0.9610382\tbest: 0.9610384 (3293)\ttotal: 11m 27s\tremaining: 2m 25s\n",
      "3400:\ttest: 0.9610689\tbest: 0.9610701 (3398)\ttotal: 11m 49s\tremaining: 2m 4s\n",
      "3500:\ttest: 0.9610770\tbest: 0.9610806 (3462)\ttotal: 12m 10s\tremaining: 1m 44s\n",
      "3600:\ttest: 0.9610844\tbest: 0.9610873 (3577)\ttotal: 12m 31s\tremaining: 1m 23s\n",
      "3700:\ttest: 0.9610953\tbest: 0.9610971 (3679)\ttotal: 12m 53s\tremaining: 1m 2s\n",
      "3800:\ttest: 0.9611003\tbest: 0.9611088 (3776)\ttotal: 13m 14s\tremaining: 41.6s\n",
      "3900:\ttest: 0.9611135\tbest: 0.9611198 (3862)\ttotal: 13m 35s\tremaining: 20.7s\n",
      "3999:\ttest: 0.9611297\tbest: 0.9611297 (3995)\ttotal: 13m 56s\tremaining: 0us\n",
      "\n",
      "bestTest = 0.9611297247\n",
      "bestIteration = 3995\n",
      "\n",
      "Shrink model to first 3996 iterations.\n",
      "\u001b[32m\u001b[1mFold 4 | 14:52 |  3995 trees |                Score = 0.79229\u001b[0m\n",
      "\u001b[31m\u001b[1mOOF Score:   0.79415\u001b[0m\n"
     ]
    }
   ],
   "source": [
    "score_list = []\n",
    "kf = StratifiedKFold(n_splits=CFG['num_folds'], random_state=CFG['seed'], shuffle=True)\n",
    "for fold, (idx_tr, idx_va) in enumerate(kf.split(train_data, target)):\n",
    "    start_time = datetime.datetime.now()\n",
    "    X_tr, X_va = train_data.iloc[idx_tr], train_data.iloc[idx_va]\n",
    "    y_tr, y_va = target.iloc[idx_tr], target.iloc[idx_va]\n",
    "    \n",
    "    model = CatBoostClassifier(\n",
    "        depth=CFG['catboost']['depth'],\n",
    "        iterations=CFG['catboost']['iterations'],\n",
    "        learning_rate=CFG['catboost']['learning_rate'],\n",
    "        eval_metric='AUC',\n",
    "        random_seed=CFG['seed'],\n",
    "        thread_count=6,\n",
    "        early_stopping_rounds=300\n",
    "    )\n",
    "    \n",
    "    model.fit(Pool(X_tr, y_tr, cat_features=cat_features),\n",
    "              eval_set=Pool(X_va, y_va, cat_features=cat_features),\n",
    "              verbose=100, plot=True)\n",
    "    model.save_model(f'models/catboost_{fold}.cbm')\n",
    "\n",
    "    y_va_pred = model.predict_proba(Pool(X_va, cat_features=cat_features))[:,1]\n",
    "    score = amex_metric(y_va.values, y_va_pred)\n",
    "    n_trees = model.best_iteration_\n",
    "    if n_trees is None: n_trees = model.n_estimators\n",
    "    print(f\"{Fore.GREEN}{Style.BRIGHT}Fold {fold} | {str(datetime.datetime.now() - start_time)[-12:-7]} |\"\n",
    "          f\" {n_trees:5} trees |\"\n",
    "          f\"                Score = {score:.5f}{Style.RESET_ALL}\")\n",
    "    score_list.append(score)\n",
    "    \n",
    "    gc.collect()\n",
    "\n",
    "print(f\"{Fore.RED}{Style.BRIGHT}OOF Score:   {np.mean(score_list):.5f}{Style.RESET_ALL}\")"
   ]
  },
  {
   "cell_type": "code",
   "execution_count": 11,
   "metadata": {},
   "outputs": [
    {
     "data": {
      "image/png": "[encoded data removed]",
      "text/plain": [
       "<Figure size 720x288 with 1 Axes>"
      ]
     },
     "metadata": {
      "needs_background": "light"
     },
     "output_type": "display_data"
    }
   ],
   "source": [
    "plt.figure(figsize=(10, 4))\n",
    "plt.hist(y_va_pred[y_va == 0], bins=np.linspace(0, 1, 21),\n",
    "         alpha=0.5, density=True, label='0')\n",
    "plt.hist(y_va_pred[y_va == 1], bins=np.linspace(0, 1, 21),\n",
    "         alpha=0.5, density=True, label='1')\n",
    "plt.xlabel('y_pred')\n",
    "plt.ylabel('density')\n",
    "plt.title('OOF Prediction histogram', color='k')\n",
    "plt.legend()\n",
    "plt.show()"
   ]
  },
  {
   "cell_type": "code",
   "execution_count": 12,
   "metadata": {},
   "outputs": [
    {
     "data": {
      "image/png": "[encoded data removed]",
      "text/plain": [
       "<Figure size 864x288 with 1 Axes>"
      ]
     },
     "metadata": {
      "needs_background": "light"
     },
     "output_type": "display_data"
    }
   ],
   "source": [
    "plt.figure(figsize=(12, 4))\n",
    "CalibrationDisplay.from_predictions(y_va, y_va_pred, n_bins=50, strategy='quantile', ax=plt.gca())\n",
    "plt.title('Probability calibration')\n",
    "plt.show()"
   ]
  },
  {
   "cell_type": "code",
   "execution_count": null,
   "metadata": {},
   "outputs": [],
   "source": []
  }
 ],
 "metadata": {
  "interpreter": {
   "hash": "e6fd9c2d9edb101385e14f9ad6c1fa6574aa43a11b0523b915a94f636b6fe7dc"
  },
  "kernelspec": {
   "display_name": "Python 3.8.12 ('venv': venv)",
   "language": "python",
   "name": "python3"
  },
  "language_info": {
   "codemirror_mode": {
    "name": "ipython",
    "version": 3
   },
   "file_extension": ".py",
   "mimetype": "text/x-python",
   "name": "python",
   "nbconvert_exporter": "python",
   "pygments_lexer": "ipython3",
   "version": "3.8.12"
  },
  "orig_nbformat": 4
 },
 "nbformat": 4,
 "nbformat_minor": 2
}

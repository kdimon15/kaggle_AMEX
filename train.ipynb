{
 "cells": [
  {
   "cell_type": "code",
   "execution_count": 1,
   "metadata": {},
   "outputs": [],
   "source": [
    "import numpy as np\n",
    "import pandas as pd\n",
    "import matplotlib.pyplot as plt\n",
    "from matplotlib.ticker import MaxNLocator\n",
    "from matplotlib.colors import ListedColormap\n",
    "import seaborn as sns\n",
    "from cycler import cycler\n",
    "from IPython.display import display\n",
    "import datetime\n",
    "import scipy.stats\n",
    "import warnings\n",
    "from colorama import Fore, Back, Style\n",
    "import gc\n",
    "\n",
    "from sklearn.model_selection import StratifiedKFold\n",
    "from sklearn.calibration import CalibrationDisplay\n",
    "from lightgbm import LGBMClassifier, log_evaluation\n",
    "\n",
    "plt.rcParams['axes.facecolor'] = '#0057b8' # blue\n",
    "plt.rcParams['axes.prop_cycle'] = cycler(color=['#ffd700'] +\n",
    "                                         plt.rcParams['axes.prop_cycle'].by_key()['color'][1:])\n",
    "plt.rcParams['text.color'] = 'w'\n",
    "\n",
    "INFERENCE = True"
   ]
  },
  {
   "cell_type": "code",
   "execution_count": 2,
   "metadata": {},
   "outputs": [],
   "source": [
    "def amex_metric(y_true, y_pred, return_components=False) -> float:\n",
    "    def top_four_percent_captured(df) -> float:\n",
    "        df['weight'] = df['target'].apply(lambda x: 20 if x==0 else 1)\n",
    "        four_pct_cutoff = int(0.04 * df['weight'].sum())\n",
    "        df['weight_cumsum'] = df['weight'].cumsum()\n",
    "        df_cutoff = df.loc[df['weight_cumsum'] <= four_pct_cutoff]\n",
    "        return (df_cutoff['target'] == 1).sum() / (df['target'] == 1).sum()\n",
    "        \n",
    "    def weighted_gini(df) -> float:\n",
    "        df['weight'] = df['target'].apply(lambda x: 20 if x==0 else 1)\n",
    "        df['random'] = (df['weight'] / df['weight'].sum()).cumsum()\n",
    "        total_pos = (df['target'] * df['weight']).sum()\n",
    "        df['cum_pos_found'] = (df['target'] * df['weight']).cumsum()\n",
    "        df['lorentz'] = df['cum_pos_found'] / total_pos\n",
    "        df['gini'] = (df['lorentz'] - df['random']) * df['weight']\n",
    "        return df['gini'].sum()\n",
    "\n",
    "    def normalized_weighted_gini(df) -> float:\n",
    "        \"\"\"Corresponds to 2 * AUC - 1\"\"\"\n",
    "        df2 = pd.DataFrame({'target': df.target, 'prediction': df.target})\n",
    "        df2.sort_values('prediction', ascending=False, inplace=True)\n",
    "        return weighted_gini(df) / weighted_gini(df2)\n",
    "\n",
    "    df = pd.DataFrame({'target': y_true.ravel(), 'prediction': y_pred.ravel()})\n",
    "    df.sort_values('prediction', ascending=False, inplace=True)\n",
    "    g = normalized_weighted_gini(df)\n",
    "    d = top_four_percent_captured(df)\n",
    "\n",
    "    if return_components: return g, d, 0.5 * (g + d)\n",
    "    return 0.5 * (g + d)\n",
    "\n",
    "def lgb_amex_metric(y_true, y_pred):\n",
    "    \"\"\"The competition metric with lightgbm's calling convention\"\"\"\n",
    "    return ('amex',\n",
    "            amex_metric(y_true, y_pred),\n",
    "            True)"
   ]
  },
  {
   "cell_type": "code",
   "execution_count": 3,
   "metadata": {},
   "outputs": [],
   "source": [
    "features_avg = ['B_1', 'B_11', 'B_16', 'B_17', 'B_18', 'B_2', 'B_20',\n",
    "                'B_28', 'B_3', 'B_4', 'B_5', 'B_7', 'B_9', 'D_112',\n",
    "                'D_121', 'D_141', 'D_39', 'D_41', 'D_42', 'D_43',\n",
    "                'D_44', 'D_45', 'D_46', 'D_47', 'D_48', 'D_49', \n",
    "                'D_50', 'D_51', 'D_53', 'D_54', 'D_56', 'D_58', \n",
    "                'D_59', 'D_60', 'D_91', 'P_2', 'P_3', 'R_1', 'R_2', \n",
    "                'R_27', 'R_3', 'R_7', 'S_11', 'S_26', 'S_3', 'S_5']\n",
    "features_last = ['B_1', 'B_10', 'B_11', 'B_12', 'B_13', 'B_15', 'B_16',\n",
    "                 'B_17', 'B_18', 'B_19', 'B_2', 'B_20', 'B_22', 'B_23',\n",
    "                 'B_24', 'B_25', 'B_26', 'B_27', 'B_28', 'B_29', 'B_3',\n",
    "                 'B_32', 'B_33', 'B_36', 'B_38', 'B_39', 'B_4', 'B_40',\n",
    "                 'B_41', 'B_42', 'B_5', 'B_6', 'B_7', 'B_8', 'B_9',\n",
    "                 'D_102', 'D_103', 'D_105', 'D_106', 'D_107', 'D_109',\n",
    "                 'D_112', 'D_115', 'D_117', 'D_118', 'D_119', 'D_120',\n",
    "                 'D_121', 'D_122', 'D_123', 'D_124', 'D_125', 'D_127', \n",
    "                 'D_129', 'D_132', 'D_133', 'D_135', 'D_136', 'D_137', \n",
    "                 'D_140', 'D_141', 'D_143', 'D_145', 'D_39', 'D_41',\n",
    "                 'D_42', 'D_43', 'D_44', 'D_45', 'D_46', 'D_47', 'D_48',\n",
    "                 'D_49', 'D_50', 'D_51', 'D_52', 'D_53', 'D_54', 'D_55',\n",
    "                 'D_56', 'D_58', 'D_59', 'D_60', 'D_61', 'D_62', 'D_63',\n",
    "                 'D_64', 'D_66', 'D_70', 'D_72', 'D_73', 'D_74', 'D_75',\n",
    "                 'D_76', 'D_77', 'D_78', 'D_79', 'D_80', 'D_82', 'D_83',\n",
    "                 'D_84', 'D_86', 'D_91', 'D_92', 'D_93', 'D_94', 'D_96',\n",
    "                 'P_2', 'P_3', 'R_1', 'R_10', 'R_11', 'R_12', 'R_13',\n",
    "                 'R_14', 'R_15', 'R_17', 'R_18', 'R_19', 'R_2', 'R_20', \n",
    "                 'R_21', 'R_22', 'R_24', 'R_25', 'R_26', 'R_27', 'R_3',\n",
    "                 'R_4', 'R_5', 'R_7', 'R_8', 'R_9', 'S_11', 'S_12',\n",
    "                 'S_13', 'S_15', 'S_17', 'S_20', 'S_22', 'S_23', \n",
    "                 'S_24', 'S_25', 'S_26', 'S_27', 'S_3', 'S_5', 'S_6',\n",
    "                 'S_7', 'S_8', 'S_9']"
   ]
  },
  {
   "cell_type": "code",
   "execution_count": 4,
   "metadata": {},
   "outputs": [],
   "source": [
    "train_data = pd.read_feather('data/train_data.ftr')\n",
    "cid = pd.Categorical(train_data.pop('customer_ID'), ordered=True)\n",
    "last = (cid != np.roll(cid, -1))\n",
    "target = train_data.loc[last, 'target']\n",
    "df_avg = train_data[features_avg].groupby(cid).mean().rename(columns={f: f\"{f}_avg\" for f in features_avg})\n",
    "train_data = train_data.loc[last, features_last].rename(columns={f: f\"{f}_last\" for f in features_last}).set_index(np.asarray(cid[last]))\n",
    "train_data = pd.concat([train_data, df_avg], axis=1)"
   ]
  },
  {
   "cell_type": "code",
   "execution_count": 5,
   "metadata": {},
   "outputs": [],
   "source": [
    "test_data = pd.read_feather('data/test_data.ftr')\n",
    "cid = pd.Categorical(test_data.pop('customer_ID'), ordered=True)\n",
    "last = (cid != np.roll(cid, -1))\n",
    "df_avg = test_data[features_avg].groupby(cid).mean().rename(columns={f: f\"{f}_avg\" for f in features_avg})\n",
    "test_data = test_data.loc[last, features_last].rename(columns={f: f\"{f}_last\" for f in features_last}).set_index(np.asarray(cid[last]))\n",
    "test_data = pd.concat([test_data, df_avg], axis=1)"
   ]
  },
  {
   "cell_type": "code",
   "execution_count": 6,
   "metadata": {},
   "outputs": [
    {
     "name": "stdout",
     "output_type": "stream",
     "text": [
      "[30]\ttraining's binary_logloss: 0.235636\ttraining's amex: 0.778379\tvalid_1's binary_logloss: 0.243834\tvalid_1's amex: 0.765462\n",
      "[60]\ttraining's binary_logloss: 0.211728\ttraining's amex: 0.802818\tvalid_1's binary_logloss: 0.22814\tvalid_1's amex: 0.778946\n",
      "[90]\ttraining's binary_logloss: 0.19906\ttraining's amex: 0.820521\tvalid_1's binary_logloss: 0.224675\tvalid_1's amex: 0.783412\n",
      "[120]\ttraining's binary_logloss: 0.188842\ttraining's amex: 0.834168\tvalid_1's binary_logloss: 0.223526\tvalid_1's amex: 0.786636\n",
      "[150]\ttraining's binary_logloss: 0.179636\ttraining's amex: 0.848769\tvalid_1's binary_logloss: 0.22316\tvalid_1's amex: 0.787384\n",
      "[180]\ttraining's binary_logloss: 0.1712\ttraining's amex: 0.862635\tvalid_1's binary_logloss: 0.223193\tvalid_1's amex: 0.787345\n",
      "\u001b[32m\u001b[1mFold 0 | 02:21 |   195 trees |                Score = 0.78714\u001b[0m\n",
      "[30]\ttraining's binary_logloss: 0.235965\ttraining's amex: 0.779918\tvalid_1's binary_logloss: 0.242866\tvalid_1's amex: 0.761418\n",
      "[60]\ttraining's binary_logloss: 0.212001\ttraining's amex: 0.80238\tvalid_1's binary_logloss: 0.226675\tvalid_1's amex: 0.777458\n",
      "[90]\ttraining's binary_logloss: 0.199263\ttraining's amex: 0.819401\tvalid_1's binary_logloss: 0.223124\tvalid_1's amex: 0.784618\n",
      "[120]\ttraining's binary_logloss: 0.189046\ttraining's amex: 0.833993\tvalid_1's binary_logloss: 0.22221\tvalid_1's amex: 0.786922\n",
      "[150]\ttraining's binary_logloss: 0.179734\ttraining's amex: 0.847688\tvalid_1's binary_logloss: 0.222104\tvalid_1's amex: 0.785972\n",
      "[180]\ttraining's binary_logloss: 0.171176\ttraining's amex: 0.86146\tvalid_1's binary_logloss: 0.222197\tvalid_1's amex: 0.786672\n",
      "\u001b[32m\u001b[1mFold 1 | 02:21 |   195 trees |                Score = 0.78604\u001b[0m\n",
      "[30]\ttraining's binary_logloss: 0.236355\ttraining's amex: 0.777379\tvalid_1's binary_logloss: 0.241871\tvalid_1's amex: 0.767572\n",
      "[60]\ttraining's binary_logloss: 0.212359\ttraining's amex: 0.802291\tvalid_1's binary_logloss: 0.225117\tvalid_1's amex: 0.77954\n",
      "[90]\ttraining's binary_logloss: 0.199692\ttraining's amex: 0.818947\tvalid_1's binary_logloss: 0.221733\tvalid_1's amex: 0.782911\n",
      "[120]\ttraining's binary_logloss: 0.18948\ttraining's amex: 0.833658\tvalid_1's binary_logloss: 0.22076\tvalid_1's amex: 0.784471\n",
      "[150]\ttraining's binary_logloss: 0.180238\ttraining's amex: 0.848358\tvalid_1's binary_logloss: 0.220533\tvalid_1's amex: 0.785438\n",
      "[180]\ttraining's binary_logloss: 0.17177\ttraining's amex: 0.861917\tvalid_1's binary_logloss: 0.220552\tvalid_1's amex: 0.786079\n",
      "\u001b[32m\u001b[1mFold 2 | 02:22 |   195 trees |                Score = 0.78665\u001b[0m\n",
      "[30]\ttraining's binary_logloss: 0.236588\ttraining's amex: 0.778227\tvalid_1's binary_logloss: 0.240344\tvalid_1's amex: 0.768573\n",
      "[60]\ttraining's binary_logloss: 0.212541\ttraining's amex: 0.801541\tvalid_1's binary_logloss: 0.224119\tvalid_1's amex: 0.782125\n",
      "[90]\ttraining's binary_logloss: 0.19987\ttraining's amex: 0.818441\tvalid_1's binary_logloss: 0.220393\tvalid_1's amex: 0.786408\n",
      "[120]\ttraining's binary_logloss: 0.189744\ttraining's amex: 0.833579\tvalid_1's binary_logloss: 0.21944\tvalid_1's amex: 0.788143\n",
      "[150]\ttraining's binary_logloss: 0.180561\ttraining's amex: 0.847337\tvalid_1's binary_logloss: 0.219095\tvalid_1's amex: 0.787988\n",
      "[180]\ttraining's binary_logloss: 0.172109\ttraining's amex: 0.861344\tvalid_1's binary_logloss: 0.219151\tvalid_1's amex: 0.788101\n",
      "\u001b[32m\u001b[1mFold 3 | 02:23 |   195 trees |                Score = 0.78800\u001b[0m\n",
      "[30]\ttraining's binary_logloss: 0.236676\ttraining's amex: 0.777639\tvalid_1's binary_logloss: 0.240772\tvalid_1's amex: 0.769455\n",
      "[60]\ttraining's binary_logloss: 0.212825\ttraining's amex: 0.801554\tvalid_1's binary_logloss: 0.224435\tvalid_1's amex: 0.782599\n",
      "[90]\ttraining's binary_logloss: 0.200154\ttraining's amex: 0.818024\tvalid_1's binary_logloss: 0.220782\tvalid_1's amex: 0.787545\n",
      "[120]\ttraining's binary_logloss: 0.189892\ttraining's amex: 0.833048\tvalid_1's binary_logloss: 0.219726\tvalid_1's amex: 0.788312\n",
      "[150]\ttraining's binary_logloss: 0.180672\ttraining's amex: 0.847197\tvalid_1's binary_logloss: 0.21957\tvalid_1's amex: 0.787094\n",
      "[180]\ttraining's binary_logloss: 0.172025\ttraining's amex: 0.86098\tvalid_1's binary_logloss: 0.219716\tvalid_1's amex: 0.788028\n",
      "\u001b[32m\u001b[1mFold 4 | 02:24 |   195 trees |                Score = 0.78837\u001b[0m\n",
      "\u001b[32m\u001b[1mOOF Score:                       0.78724\u001b[0m\n"
     ]
    }
   ],
   "source": [
    "def my_booster(random_state=1, n_estimators=195):\n",
    "    return LGBMClassifier(n_estimators=n_estimators,\n",
    "                          min_child_samples=2400,\n",
    "                          num_leaves=127,\n",
    "                          max_bins=511, random_state=random_state)\n",
    "\n",
    "ONLY_FIRST_FOLD = False\n",
    "\n",
    "features = [f for f in train_data.columns if f not in ('customer_ID', 'target')]\n",
    "\n",
    "score_list = []\n",
    "y_pred_list = []\n",
    "kf = StratifiedKFold(n_splits=5, random_state=777)\n",
    "for fold, (idx_tr, idx_va) in enumerate(kf.split(train_data, target)):\n",
    "    start_time = datetime.datetime.now()\n",
    "    X_tr = train_data.iloc[idx_tr][features]\n",
    "    X_va = train_data.iloc[idx_va][features]\n",
    "    y_tr = target.iloc[idx_tr]\n",
    "    y_va = target.iloc[idx_va]\n",
    "    \n",
    "    model = my_booster()\n",
    "    with warnings.catch_warnings():\n",
    "        warnings.filterwarnings('ignore', category=UserWarning)\n",
    "        model.fit(X_tr, y_tr,\n",
    "                  eval_set = [(X_tr, y_tr),(X_va, y_va)], \n",
    "                  eval_metric=[lgb_amex_metric],\n",
    "                  callbacks=[log_evaluation(30)])\n",
    "\n",
    "    y_va_pred = model.predict_proba(X_va)[:,1]\n",
    "    score = amex_metric(y_va.values, y_va_pred)\n",
    "    n_trees = model.best_iteration_\n",
    "    if n_trees is None: n_trees = model.n_estimators\n",
    "    print(f\"{Fore.GREEN}{Style.BRIGHT}Fold {fold} | {str(datetime.datetime.now() - start_time)[-12:-7]} |\"\n",
    "          f\" {n_trees:5} trees |\"\n",
    "          f\"                Score = {score:.5f}{Style.RESET_ALL}\")\n",
    "    score_list.append(score)\n",
    "    \n",
    "    if INFERENCE:\n",
    "        y_pred_list.append(model.predict_proba(test_data[features])[:,1])\n",
    "        \n",
    "    if ONLY_FIRST_FOLD: break # we only want the first fold\n",
    "    \n",
    "print(f\"{Fore.GREEN}{Style.BRIGHT}OOF Score:                       {np.mean(score_list):.5f}{Style.RESET_ALL}\")"
   ]
  },
  {
   "cell_type": "code",
   "execution_count": 7,
   "metadata": {},
   "outputs": [
    {
     "data": {
      "image/png": "[encoded data removed]",
      "text/plain": [
       "<Figure size 720x288 with 1 Axes>"
      ]
     },
     "metadata": {
      "needs_background": "light"
     },
     "output_type": "display_data"
    }
   ],
   "source": [
    "plt.figure(figsize=(10, 4))\n",
    "plt.hist(y_va_pred[y_va == 0], bins=np.linspace(0, 1, 21),\n",
    "         alpha=0.5, density=True, label='0')\n",
    "plt.hist(y_va_pred[y_va == 1], bins=np.linspace(0, 1, 21),\n",
    "         alpha=0.5, density=True, label='1')\n",
    "plt.xlabel('y_pred')\n",
    "plt.ylabel('density')\n",
    "plt.title('OOF Prediction histogram', color='k')\n",
    "plt.legend()\n",
    "plt.show()"
   ]
  },
  {
   "cell_type": "code",
   "execution_count": 8,
   "metadata": {},
   "outputs": [
    {
     "data": {
      "image/png": "[encoded data removed]",
      "text/plain": [
       "<Figure size 864x288 with 1 Axes>"
      ]
     },
     "metadata": {
      "needs_background": "light"
     },
     "output_type": "display_data"
    }
   ],
   "source": [
    "plt.figure(figsize=(12, 4))\n",
    "CalibrationDisplay.from_predictions(y_va, y_va_pred, n_bins=50, strategy='quantile', ax=plt.gca())\n",
    "plt.title('Probability calibration')\n",
    "plt.show()"
   ]
  },
  {
   "cell_type": "code",
   "execution_count": 10,
   "metadata": {},
   "outputs": [
    {
     "data": {
      "text/html": [
       "<div>\n",
       "<style scoped>\n",
       "    .dataframe tbody tr th:only-of-type {\n",
       "        vertical-align: middle;\n",
       "    }\n",
       "\n",
       "    .dataframe tbody tr th {\n",
       "        vertical-align: top;\n",
       "    }\n",
       "\n",
       "    .dataframe thead th {\n",
       "        text-align: right;\n",
       "    }\n",
       "</style>\n",
       "<table border=\"1\" class=\"dataframe\">\n",
       "  <thead>\n",
       "    <tr style=\"text-align: right;\">\n",
       "      <th></th>\n",
       "      <th>customer_ID</th>\n",
       "      <th>prediction</th>\n",
       "    </tr>\n",
       "  </thead>\n",
       "  <tbody>\n",
       "    <tr>\n",
       "      <th>0</th>\n",
       "      <td>00000469ba478561f23a92a868bd366de6f6527a684c9a...</td>\n",
       "      <td>0.018513</td>\n",
       "    </tr>\n",
       "    <tr>\n",
       "      <th>1</th>\n",
       "      <td>00001bf2e77ff879fab36aa4fac689b9ba411dae63ae39...</td>\n",
       "      <td>0.000825</td>\n",
       "    </tr>\n",
       "    <tr>\n",
       "      <th>2</th>\n",
       "      <td>0000210045da4f81e5f122c6bde5c2a617d03eef67f82c...</td>\n",
       "      <td>0.031678</td>\n",
       "    </tr>\n",
       "    <tr>\n",
       "      <th>3</th>\n",
       "      <td>00003b41e58ede33b8daf61ab56d9952f17c9ad1c3976c...</td>\n",
       "      <td>0.271779</td>\n",
       "    </tr>\n",
       "    <tr>\n",
       "      <th>4</th>\n",
       "      <td>00004b22eaeeeb0ec976890c1d9bfc14fd9427e98c4ee9...</td>\n",
       "      <td>0.908023</td>\n",
       "    </tr>\n",
       "    <tr>\n",
       "      <th>...</th>\n",
       "      <td>...</td>\n",
       "      <td>...</td>\n",
       "    </tr>\n",
       "    <tr>\n",
       "      <th>924616</th>\n",
       "      <td>ffff952c631f2c911b8a2a8ca56ea6e656309a83d2f64c...</td>\n",
       "      <td>0.014191</td>\n",
       "    </tr>\n",
       "    <tr>\n",
       "      <th>924617</th>\n",
       "      <td>ffffcf5df59e5e0bba2a5ac4578a34e2b5aa64a1546cd3...</td>\n",
       "      <td>0.779236</td>\n",
       "    </tr>\n",
       "    <tr>\n",
       "      <th>924618</th>\n",
       "      <td>ffffd61f098cc056dbd7d2a21380c4804bbfe60856f475...</td>\n",
       "      <td>0.445475</td>\n",
       "    </tr>\n",
       "    <tr>\n",
       "      <th>924619</th>\n",
       "      <td>ffffddef1fc3643ea179c93245b68dca0f36941cd83977...</td>\n",
       "      <td>0.344342</td>\n",
       "    </tr>\n",
       "    <tr>\n",
       "      <th>924620</th>\n",
       "      <td>fffffa7cf7e453e1acc6a1426475d5cb9400859f82ff61...</td>\n",
       "      <td>0.053073</td>\n",
       "    </tr>\n",
       "  </tbody>\n",
       "</table>\n",
       "<p>924621 rows × 2 columns</p>\n",
       "</div>"
      ],
      "text/plain": [
       "                                              customer_ID  prediction\n",
       "0       00000469ba478561f23a92a868bd366de6f6527a684c9a...    0.018513\n",
       "1       00001bf2e77ff879fab36aa4fac689b9ba411dae63ae39...    0.000825\n",
       "2       0000210045da4f81e5f122c6bde5c2a617d03eef67f82c...    0.031678\n",
       "3       00003b41e58ede33b8daf61ab56d9952f17c9ad1c3976c...    0.271779\n",
       "4       00004b22eaeeeb0ec976890c1d9bfc14fd9427e98c4ee9...    0.908023\n",
       "...                                                   ...         ...\n",
       "924616  ffff952c631f2c911b8a2a8ca56ea6e656309a83d2f64c...    0.014191\n",
       "924617  ffffcf5df59e5e0bba2a5ac4578a34e2b5aa64a1546cd3...    0.779236\n",
       "924618  ffffd61f098cc056dbd7d2a21380c4804bbfe60856f475...    0.445475\n",
       "924619  ffffddef1fc3643ea179c93245b68dca0f36941cd83977...    0.344342\n",
       "924620  fffffa7cf7e453e1acc6a1426475d5cb9400859f82ff61...    0.053073\n",
       "\n",
       "[924621 rows x 2 columns]"
      ]
     },
     "metadata": {},
     "output_type": "display_data"
    }
   ],
   "source": [
    "if INFERENCE:\n",
    "    sub = pd.DataFrame({'customer_ID': test_data.index,\n",
    "                        'prediction': np.mean(y_pred_list, axis=0)})\n",
    "    sub.to_csv('submission.csv', index=False)\n",
    "    display(sub)"
   ]
  },
  {
   "cell_type": "code",
   "execution_count": null,
   "metadata": {},
   "outputs": [],
   "source": []
  }
 ],
 "metadata": {
  "interpreter": {
   "hash": "e6fd9c2d9edb101385e14f9ad6c1fa6574aa43a11b0523b915a94f636b6fe7dc"
  },
  "kernelspec": {
   "display_name": "Python 3.8.12 ('venv': venv)",
   "language": "python",
   "name": "python3"
  },
  "language_info": {
   "codemirror_mode": {
    "name": "ipython",
    "version": 3
   },
   "file_extension": ".py",
   "mimetype": "text/x-python",
   "name": "python",
   "nbconvert_exporter": "python",
   "pygments_lexer": "ipython3",
   "version": "3.8.12"
  },
  "orig_nbformat": 4
 },
 "nbformat": 4,
 "nbformat_minor": 2
}

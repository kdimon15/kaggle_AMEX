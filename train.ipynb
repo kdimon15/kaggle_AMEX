{
 "cells": [
  {
   "cell_type": "code",
   "execution_count": 1,
   "metadata": {},
   "outputs": [
    {
     "name": "stderr",
     "output_type": "stream",
     "text": [
      "Failed to detect the name of this notebook, you can set it manually with the WANDB_NOTEBOOK_NAME environment variable to enable code saving.\n",
      "\u001b[34m\u001b[1mwandb\u001b[0m: Currently logged in as: \u001b[33mkdimon15\u001b[0m. Use \u001b[1m`wandb login --relogin`\u001b[0m to force relogin\n"
     ]
    },
    {
     "data": {
      "text/plain": [
       "True"
      ]
     },
     "execution_count": 1,
     "metadata": {},
     "output_type": "execute_result"
    }
   ],
   "source": [
    "import numpy as np\n",
    "import pandas as pd\n",
    "import matplotlib.pyplot as plt\n",
    "from matplotlib.ticker import MaxNLocator\n",
    "from matplotlib.colors import ListedColormap\n",
    "import seaborn as sns\n",
    "from cycler import cycler\n",
    "from IPython.display import display\n",
    "import datetime\n",
    "import warnings\n",
    "from colorama import Fore, Style\n",
    "import gc\n",
    "\n",
    "from sklearn.model_selection import StratifiedKFold\n",
    "from sklearn.calibration import CalibrationDisplay\n",
    "from lightgbm import LGBMClassifier, log_evaluation\n",
    "import lightgbm\n",
    "from catboost import Pool, CatBoostClassifier\n",
    "import catboost\n",
    "from wandb.lightgbm import wandb_callback, log_summary\n",
    "import wandb\n",
    "\n",
    "plt.rcParams['axes.facecolor'] = '#0057b8' # blue\n",
    "plt.rcParams['axes.prop_cycle'] = cycler(color=['#ffd700'] +\n",
    "                                         plt.rcParams['axes.prop_cycle'].by_key()['color'][1:])\n",
    "plt.rcParams['text.color'] = 'w'\n",
    "\n",
    "wandb.login()"
   ]
  },
  {
   "cell_type": "code",
   "execution_count": 2,
   "metadata": {},
   "outputs": [],
   "source": [
    "def amex_metric(y_true, y_pred, return_components=False) -> float:\n",
    "    def top_four_percent_captured(df) -> float:\n",
    "        df['weight'] = df['target'].apply(lambda x: 20 if x==0 else 1)\n",
    "        four_pct_cutoff = int(0.04 * df['weight'].sum())\n",
    "        df['weight_cumsum'] = df['weight'].cumsum()\n",
    "        df_cutoff = df.loc[df['weight_cumsum'] <= four_pct_cutoff]\n",
    "        return (df_cutoff['target'] == 1).sum() / (df['target'] == 1).sum()\n",
    "        \n",
    "    def weighted_gini(df) -> float:\n",
    "        df['weight'] = df['target'].apply(lambda x: 20 if x==0 else 1)\n",
    "        df['random'] = (df['weight'] / df['weight'].sum()).cumsum()\n",
    "        total_pos = (df['target'] * df['weight']).sum()\n",
    "        df['cum_pos_found'] = (df['target'] * df['weight']).cumsum()\n",
    "        df['lorentz'] = df['cum_pos_found'] / total_pos\n",
    "        df['gini'] = (df['lorentz'] - df['random']) * df['weight']\n",
    "        return df['gini'].sum()\n",
    "\n",
    "    def normalized_weighted_gini(df) -> float:\n",
    "        \"\"\"Corresponds to 2 * AUC - 1\"\"\"\n",
    "        df2 = pd.DataFrame({'target': df.target, 'prediction': df.target})\n",
    "        df2.sort_values('prediction', ascending=False, inplace=True)\n",
    "        return weighted_gini(df) / weighted_gini(df2)\n",
    "\n",
    "    df = pd.DataFrame({'target': y_true.ravel(), 'prediction': y_pred.ravel()})\n",
    "    df.sort_values('prediction', ascending=False, inplace=True)\n",
    "    g = normalized_weighted_gini(df)\n",
    "    d = top_four_percent_captured(df)\n",
    "\n",
    "    if return_components: return g, d, 0.5 * (g + d)\n",
    "    return 0.5 * (g + d)\n",
    "\n",
    "def lgb_amex_metric(y_true, y_pred):\n",
    "    \"\"\"The competition metric with lightgbm's calling convention\"\"\"\n",
    "    return ('amex',\n",
    "            amex_metric(y_true, y_pred),\n",
    "            True)"
   ]
  },
  {
   "cell_type": "code",
   "execution_count": 3,
   "metadata": {},
   "outputs": [],
   "source": [
    "CFG = {\n",
    "    'num_folds': 5,\n",
    "\n",
    "\n",
    "    'lgbm': {\n",
    "        'num_estimators': 195,\n",
    "        'min_child_samples': 2400,\n",
    "        'num_leaves': 127,\n",
    "        'max_bins': 511\n",
    "    },\n",
    "\n",
    "    'make_submit': True,\n",
    "    'seed': 777\n",
    "}"
   ]
  },
  {
   "cell_type": "code",
   "execution_count": 4,
   "metadata": {},
   "outputs": [],
   "source": [
    "features_avg = ['B_1', 'B_11', 'B_16', 'B_17', 'B_18', 'B_2', 'B_20',\n",
    "                'B_28', 'B_3', 'B_4', 'B_5', 'B_7', 'B_9', 'D_112',\n",
    "                'D_121', 'D_141', 'D_39', 'D_41', 'D_42', 'D_43',\n",
    "                'D_44', 'D_45', 'D_46', 'D_47', 'D_48', 'D_49', \n",
    "                'D_50', 'D_51', 'D_53', 'D_54', 'D_56', 'D_58', \n",
    "                'D_59', 'D_60', 'D_91', 'P_2', 'P_3', 'R_1', 'R_2', \n",
    "                'R_27', 'R_3', 'R_7', 'S_11', 'S_26', 'S_3', 'S_5']\n",
    "features_last = ['B_1', 'B_10', 'B_11', 'B_12', 'B_13', 'B_15', 'B_16',\n",
    "                 'B_17', 'B_18', 'B_19', 'B_2', 'B_20', 'B_22', 'B_23',\n",
    "                 'B_24', 'B_25', 'B_26', 'B_27', 'B_28', 'B_29', 'B_3',\n",
    "                 'B_32', 'B_33', 'B_36', 'B_38', 'B_39', 'B_4', 'B_40',\n",
    "                 'B_41', 'B_42', 'B_5', 'B_6', 'B_7', 'B_8', 'B_9',\n",
    "                 'D_102', 'D_103', 'D_105', 'D_106', 'D_107', 'D_109',\n",
    "                 'D_112', 'D_115', 'D_117', 'D_118', 'D_119', 'D_120',\n",
    "                 'D_121', 'D_122', 'D_123', 'D_124', 'D_125', 'D_127', \n",
    "                 'D_129', 'D_132', 'D_133', 'D_135', 'D_136', 'D_137', \n",
    "                 'D_140', 'D_141', 'D_143', 'D_145', 'D_39', 'D_41',\n",
    "                 'D_42', 'D_43', 'D_44', 'D_45', 'D_46', 'D_47', 'D_48',\n",
    "                 'D_49', 'D_50', 'D_51', 'D_52', 'D_53', 'D_54', 'D_55',\n",
    "                 'D_56', 'D_58', 'D_59', 'D_60', 'D_61', 'D_62', 'D_63',\n",
    "                 'D_64', 'D_66', 'D_70', 'D_72', 'D_73', 'D_74', 'D_75',\n",
    "                 'D_76', 'D_77', 'D_78', 'D_79', 'D_80', 'D_82', 'D_83',\n",
    "                 'D_84', 'D_86', 'D_91', 'D_92', 'D_93', 'D_94', 'D_96',\n",
    "                 'P_2', 'P_3', 'R_1', 'R_10', 'R_11', 'R_12', 'R_13',\n",
    "                 'R_14', 'R_15', 'R_17', 'R_18', 'R_19', 'R_2', 'R_20', \n",
    "                 'R_21', 'R_22', 'R_24', 'R_25', 'R_26', 'R_27', 'R_3',\n",
    "                 'R_4', 'R_5', 'R_7', 'R_8', 'R_9', 'S_11', 'S_12',\n",
    "                 'S_13', 'S_15', 'S_17', 'S_20', 'S_22', 'S_23', \n",
    "                 'S_24', 'S_25', 'S_26', 'S_27', 'S_3', 'S_5', 'S_6',\n",
    "                 'S_7', 'S_8', 'S_9']"
   ]
  },
  {
   "cell_type": "code",
   "execution_count": 5,
   "metadata": {},
   "outputs": [
    {
     "data": {
      "text/plain": [
       "0"
      ]
     },
     "execution_count": 5,
     "metadata": {},
     "output_type": "execute_result"
    }
   ],
   "source": [
    "def get_data(path, train=False):\n",
    "    data = pd.read_feather(path)\n",
    "    cid = pd.Categorical(data.pop('customer_ID'), ordered=True)\n",
    "    last = (cid != np.roll(cid, -1))\n",
    "    if train: target = data.loc[last, 'target']\n",
    "    df_avg = data[features_avg].groupby(cid).mean().rename(columns={f: f\"{f}_avg\" for f in features_avg})\n",
    "    data = data.loc[last, features_last].rename(columns={f: f\"{f}_last\" for f in features_last}).set_index(np.asarray(cid[last]))\n",
    "    data = pd.concat([data, df_avg], axis=1)\n",
    "    if train: return data, target\n",
    "    else: return data\n",
    "\n",
    "train_data, target = get_data('data/train_data.ftr', train=True)\n",
    "test_data = get_data('data/test_data.ftr')\n",
    "gc.collect()"
   ]
  },
  {
   "cell_type": "code",
   "execution_count": 6,
   "metadata": {},
   "outputs": [
    {
     "data": {
      "text/html": [
       "Tracking run with wandb version 0.12.17"
      ],
      "text/plain": [
       "<IPython.core.display.HTML object>"
      ]
     },
     "metadata": {},
     "output_type": "display_data"
    },
    {
     "data": {
      "text/html": [
       "Run data is saved locally in <code>/Users/dmitrykutsenko/Desktop/My_python/Kaggle_amex/wandb/run-20220530_122639-oxkhdn6v</code>"
      ],
      "text/plain": [
       "<IPython.core.display.HTML object>"
      ]
     },
     "metadata": {},
     "output_type": "display_data"
    },
    {
     "data": {
      "text/html": [
       "Syncing run <strong><a href=\"https://wandb.ai/kdimon15/kaggle_amex_v1/runs/oxkhdn6v\" target=\"_blank\">fold_0</a></strong> to <a href=\"https://wandb.ai/kdimon15/kaggle_amex_v1\" target=\"_blank\">Weights & Biases</a> (<a href=\"https://wandb.me/run\" target=\"_blank\">docs</a>)<br/>"
      ],
      "text/plain": [
       "<IPython.core.display.HTML object>"
      ]
     },
     "metadata": {},
     "output_type": "display_data"
    },
    {
     "name": "stdout",
     "output_type": "stream",
     "text": [
      "[30]\ttraining's binary_logloss: 0.236651\ttraining's amex: 0.777975\tvalid_1's binary_logloss: 0.240483\tvalid_1's amex: 0.767157\n",
      "[60]\ttraining's binary_logloss: 0.212691\ttraining's amex: 0.801302\tvalid_1's binary_logloss: 0.223911\tvalid_1's amex: 0.781727\n",
      "[90]\ttraining's binary_logloss: 0.19996\ttraining's amex: 0.818536\tvalid_1's binary_logloss: 0.220406\tvalid_1's amex: 0.787002\n",
      "[120]\ttraining's binary_logloss: 0.189755\ttraining's amex: 0.833271\tvalid_1's binary_logloss: 0.219425\tvalid_1's amex: 0.788133\n",
      "[150]\ttraining's binary_logloss: 0.180585\ttraining's amex: 0.846823\tvalid_1's binary_logloss: 0.219142\tvalid_1's amex: 0.789172\n",
      "[180]\ttraining's binary_logloss: 0.172004\ttraining's amex: 0.861257\tvalid_1's binary_logloss: 0.219095\tvalid_1's amex: 0.788971\n",
      "\u001b[32m\u001b[1mFold 0 | 02:24 |   195 trees |                Score = 0.78888\u001b[0m\n"
     ]
    },
    {
     "data": {
      "text/html": [
       "Waiting for W&B process to finish... <strong style=\"color:green\">(success).</strong>"
      ],
      "text/plain": [
       "<IPython.core.display.HTML object>"
      ]
     },
     "metadata": {},
     "output_type": "display_data"
    },
    {
     "data": {
      "text/html": [
       "<style>\n",
       "    table.wandb td:nth-child(1) { padding: 0 10px; text-align: left ; width: auto;} td:nth-child(2) {text-align: left ; width: 100%}\n",
       "    .wandb-row { display: flex; flex-direction: row; flex-wrap: wrap; justify-content: flex-start; width: 100% }\n",
       "    .wandb-col { display: flex; flex-direction: column; flex-basis: 100%; flex: 1; padding: 10px; }\n",
       "    </style>\n",
       "<div class=\"wandb-row\"><div class=\"wandb-col\"><h3>Run history:</h3><br/><table class=\"wandb\"><tr><td>iteration</td><td>▁▁▁▂▂▂▂▂▂▃▃▃▃▃▃▄▄▄▄▄▅▅▅▅▅▅▆▆▆▆▆▇▇▇▇▇▇███</td></tr><tr><td>training_amex</td><td>▁▂▂▃▃▃▄▄▄▄▄▅▅▅▅▅▅▅▆▆▆▆▆▆▆▆▇▇▇▇▇▇▇▇▇█████</td></tr><tr><td>training_binary_logloss</td><td>█▆▄▃▃▃▃▂▂▂▂▂▂▂▂▂▂▂▂▂▂▂▂▂▁▁▁▁▁▁▁▁▁▁▁▁▁▁▁▁</td></tr><tr><td>valid_1_amex</td><td>▁▃▃▄▅▅▆▆▆▇▇▇▇▇▇█████████████████████████</td></tr><tr><td>valid_1_binary_logloss</td><td>█▅▄▃▂▂▂▁▁▁▁▁▁▁▁▁▁▁▁▁▁▁▁▁▁▁▁▁▁▁▁▁▁▁▁▁▁▁▁▁</td></tr></table><br/></div><div class=\"wandb-col\"><h3>Run summary:</h3><br/><table class=\"wandb\"><tr><td>iteration</td><td>194</td></tr><tr><td>training_amex</td><td>0.86791</td></tr><tr><td>valid_1_amex</td><td>0.78888</td></tr></table><br/></div></div>"
      ],
      "text/plain": [
       "<IPython.core.display.HTML object>"
      ]
     },
     "metadata": {},
     "output_type": "display_data"
    },
    {
     "data": {
      "text/html": [
       "Synced <strong style=\"color:#cdcd00\">fold_0</strong>: <a href=\"https://wandb.ai/kdimon15/kaggle_amex_v1/runs/oxkhdn6v\" target=\"_blank\">https://wandb.ai/kdimon15/kaggle_amex_v1/runs/oxkhdn6v</a><br/>Synced 5 W&B file(s), 0 media file(s), 0 artifact file(s) and 0 other file(s)"
      ],
      "text/plain": [
       "<IPython.core.display.HTML object>"
      ]
     },
     "metadata": {},
     "output_type": "display_data"
    },
    {
     "data": {
      "text/html": [
       "Find logs at: <code>./wandb/run-20220530_122639-oxkhdn6v/logs</code>"
      ],
      "text/plain": [
       "<IPython.core.display.HTML object>"
      ]
     },
     "metadata": {},
     "output_type": "display_data"
    },
    {
     "data": {
      "text/html": [
       "Tracking run with wandb version 0.12.17"
      ],
      "text/plain": [
       "<IPython.core.display.HTML object>"
      ]
     },
     "metadata": {},
     "output_type": "display_data"
    },
    {
     "data": {
      "text/html": [
       "Run data is saved locally in <code>/Users/dmitrykutsenko/Desktop/My_python/Kaggle_amex/wandb/run-20220530_122915-fs316v2u</code>"
      ],
      "text/plain": [
       "<IPython.core.display.HTML object>"
      ]
     },
     "metadata": {},
     "output_type": "display_data"
    },
    {
     "data": {
      "text/html": [
       "Syncing run <strong><a href=\"https://wandb.ai/kdimon15/kaggle_amex_v1/runs/fs316v2u\" target=\"_blank\">fold_1</a></strong> to <a href=\"https://wandb.ai/kdimon15/kaggle_amex_v1\" target=\"_blank\">Weights & Biases</a> (<a href=\"https://wandb.me/run\" target=\"_blank\">docs</a>)<br/>"
      ],
      "text/plain": [
       "<IPython.core.display.HTML object>"
      ]
     },
     "metadata": {},
     "output_type": "display_data"
    },
    {
     "name": "stdout",
     "output_type": "stream",
     "text": [
      "[30]\ttraining's binary_logloss: 0.236013\ttraining's amex: 0.777581\tvalid_1's binary_logloss: 0.242509\tvalid_1's amex: 0.764555\n",
      "[60]\ttraining's binary_logloss: 0.212161\ttraining's amex: 0.802261\tvalid_1's binary_logloss: 0.226407\tvalid_1's amex: 0.78102\n",
      "[90]\ttraining's binary_logloss: 0.19947\ttraining's amex: 0.819562\tvalid_1's binary_logloss: 0.222725\tvalid_1's amex: 0.786297\n",
      "[120]\ttraining's binary_logloss: 0.189288\ttraining's amex: 0.832752\tvalid_1's binary_logloss: 0.221623\tvalid_1's amex: 0.787259\n",
      "[150]\ttraining's binary_logloss: 0.180005\ttraining's amex: 0.847332\tvalid_1's binary_logloss: 0.221568\tvalid_1's amex: 0.787473\n",
      "[180]\ttraining's binary_logloss: 0.171489\ttraining's amex: 0.861359\tvalid_1's binary_logloss: 0.221834\tvalid_1's amex: 0.787531\n",
      "\u001b[32m\u001b[1mFold 1 | 02:21 |   195 trees |                Score = 0.78673\u001b[0m\n"
     ]
    },
    {
     "data": {
      "text/html": [
       "Waiting for W&B process to finish... <strong style=\"color:green\">(success).</strong>"
      ],
      "text/plain": [
       "<IPython.core.display.HTML object>"
      ]
     },
     "metadata": {},
     "output_type": "display_data"
    },
    {
     "data": {
      "text/html": [
       "<style>\n",
       "    table.wandb td:nth-child(1) { padding: 0 10px; text-align: left ; width: auto;} td:nth-child(2) {text-align: left ; width: 100%}\n",
       "    .wandb-row { display: flex; flex-direction: row; flex-wrap: wrap; justify-content: flex-start; width: 100% }\n",
       "    .wandb-col { display: flex; flex-direction: column; flex-basis: 100%; flex: 1; padding: 10px; }\n",
       "    </style>\n",
       "<div class=\"wandb-row\"><div class=\"wandb-col\"><h3>Run history:</h3><br/><table class=\"wandb\"><tr><td>iteration</td><td>▁▁▁▂▂▂▂▂▂▃▃▃▃▃▃▄▄▄▄▄▅▅▅▅▅▅▆▆▆▆▆▇▇▇▇▇▇███</td></tr><tr><td>training_amex</td><td>▁▂▂▃▃▃▄▄▄▄▄▅▅▅▅▅▅▅▆▆▆▆▆▆▆▆▇▇▇▇▇▇▇▇▇█████</td></tr><tr><td>training_binary_logloss</td><td>█▆▄▃▃▃▃▂▂▂▂▂▂▂▂▂▂▂▂▂▂▂▂▂▁▁▁▁▁▁▁▁▁▁▁▁▁▁▁▁</td></tr><tr><td>valid_1_amex</td><td>▁▃▄▅▅▅▆▆▆▇▇▇▇▇██████████████████████████</td></tr><tr><td>valid_1_binary_logloss</td><td>█▅▄▃▂▂▂▁▁▁▁▁▁▁▁▁▁▁▁▁▁▁▁▁▁▁▁▁▁▁▁▁▁▁▁▁▁▁▁▁</td></tr></table><br/></div><div class=\"wandb-col\"><h3>Run summary:</h3><br/><table class=\"wandb\"><tr><td>iteration</td><td>194</td></tr><tr><td>training_amex</td><td>0.86834</td></tr><tr><td>valid_1_amex</td><td>0.78673</td></tr></table><br/></div></div>"
      ],
      "text/plain": [
       "<IPython.core.display.HTML object>"
      ]
     },
     "metadata": {},
     "output_type": "display_data"
    },
    {
     "data": {
      "text/html": [
       "Synced <strong style=\"color:#cdcd00\">fold_1</strong>: <a href=\"https://wandb.ai/kdimon15/kaggle_amex_v1/runs/fs316v2u\" target=\"_blank\">https://wandb.ai/kdimon15/kaggle_amex_v1/runs/fs316v2u</a><br/>Synced 5 W&B file(s), 0 media file(s), 0 artifact file(s) and 0 other file(s)"
      ],
      "text/plain": [
       "<IPython.core.display.HTML object>"
      ]
     },
     "metadata": {},
     "output_type": "display_data"
    },
    {
     "data": {
      "text/html": [
       "Find logs at: <code>./wandb/run-20220530_122915-fs316v2u/logs</code>"
      ],
      "text/plain": [
       "<IPython.core.display.HTML object>"
      ]
     },
     "metadata": {},
     "output_type": "display_data"
    },
    {
     "data": {
      "text/html": [
       "Tracking run with wandb version 0.12.17"
      ],
      "text/plain": [
       "<IPython.core.display.HTML object>"
      ]
     },
     "metadata": {},
     "output_type": "display_data"
    },
    {
     "data": {
      "text/html": [
       "Run data is saved locally in <code>/Users/dmitrykutsenko/Desktop/My_python/Kaggle_amex/wandb/run-20220530_123148-s4i80930</code>"
      ],
      "text/plain": [
       "<IPython.core.display.HTML object>"
      ]
     },
     "metadata": {},
     "output_type": "display_data"
    },
    {
     "data": {
      "text/html": [
       "Syncing run <strong><a href=\"https://wandb.ai/kdimon15/kaggle_amex_v1/runs/s4i80930\" target=\"_blank\">fold_2</a></strong> to <a href=\"https://wandb.ai/kdimon15/kaggle_amex_v1\" target=\"_blank\">Weights & Biases</a> (<a href=\"https://wandb.me/run\" target=\"_blank\">docs</a>)<br/>"
      ],
      "text/plain": [
       "<IPython.core.display.HTML object>"
      ]
     },
     "metadata": {},
     "output_type": "display_data"
    },
    {
     "name": "stdout",
     "output_type": "stream",
     "text": [
      "[30]\ttraining's binary_logloss: 0.236286\ttraining's amex: 0.7784\tvalid_1's binary_logloss: 0.241278\tvalid_1's amex: 0.767263\n",
      "[60]\ttraining's binary_logloss: 0.212621\ttraining's amex: 0.801604\tvalid_1's binary_logloss: 0.224845\tvalid_1's amex: 0.781345\n",
      "[90]\ttraining's binary_logloss: 0.199992\ttraining's amex: 0.8183\tvalid_1's binary_logloss: 0.221134\tvalid_1's amex: 0.786196\n",
      "[120]\ttraining's binary_logloss: 0.189726\ttraining's amex: 0.832289\tvalid_1's binary_logloss: 0.219818\tvalid_1's amex: 0.788733\n",
      "[150]\ttraining's binary_logloss: 0.180535\ttraining's amex: 0.84662\tvalid_1's binary_logloss: 0.219424\tvalid_1's amex: 0.788517\n",
      "[180]\ttraining's binary_logloss: 0.171991\ttraining's amex: 0.860583\tvalid_1's binary_logloss: 0.219266\tvalid_1's amex: 0.789917\n",
      "\u001b[32m\u001b[1mFold 2 | 02:21 |   195 trees |                Score = 0.78883\u001b[0m\n"
     ]
    },
    {
     "data": {
      "text/html": [
       "Waiting for W&B process to finish... <strong style=\"color:green\">(success).</strong>"
      ],
      "text/plain": [
       "<IPython.core.display.HTML object>"
      ]
     },
     "metadata": {},
     "output_type": "display_data"
    },
    {
     "data": {
      "text/html": [
       "<style>\n",
       "    table.wandb td:nth-child(1) { padding: 0 10px; text-align: left ; width: auto;} td:nth-child(2) {text-align: left ; width: 100%}\n",
       "    .wandb-row { display: flex; flex-direction: row; flex-wrap: wrap; justify-content: flex-start; width: 100% }\n",
       "    .wandb-col { display: flex; flex-direction: column; flex-basis: 100%; flex: 1; padding: 10px; }\n",
       "    </style>\n",
       "<div class=\"wandb-row\"><div class=\"wandb-col\"><h3>Run history:</h3><br/><table class=\"wandb\"><tr><td>iteration</td><td>▁▁▁▂▂▂▂▂▂▃▃▃▃▃▃▄▄▄▄▄▅▅▅▅▅▅▆▆▆▆▆▇▇▇▇▇▇███</td></tr><tr><td>training_amex</td><td>▁▂▂▃▃▃▄▄▄▄▄▅▅▅▅▅▅▅▆▆▆▆▆▆▆▆▇▇▇▇▇▇▇▇▇█████</td></tr><tr><td>training_binary_logloss</td><td>█▆▄▃▃▃▃▂▂▂▂▂▂▂▂▂▂▂▂▂▂▂▂▂▁▁▁▁▁▁▁▁▁▁▁▁▁▁▁▁</td></tr><tr><td>valid_1_amex</td><td>▁▃▃▅▅▅▆▆▆▇▇▇▇▇▇▇████████████████████████</td></tr><tr><td>valid_1_binary_logloss</td><td>█▅▄▃▂▂▂▁▁▁▁▁▁▁▁▁▁▁▁▁▁▁▁▁▁▁▁▁▁▁▁▁▁▁▁▁▁▁▁▁</td></tr></table><br/></div><div class=\"wandb-col\"><h3>Run summary:</h3><br/><table class=\"wandb\"><tr><td>iteration</td><td>194</td></tr><tr><td>training_amex</td><td>0.86733</td></tr><tr><td>valid_1_amex</td><td>0.78883</td></tr></table><br/></div></div>"
      ],
      "text/plain": [
       "<IPython.core.display.HTML object>"
      ]
     },
     "metadata": {},
     "output_type": "display_data"
    },
    {
     "data": {
      "text/html": [
       "Synced <strong style=\"color:#cdcd00\">fold_2</strong>: <a href=\"https://wandb.ai/kdimon15/kaggle_amex_v1/runs/s4i80930\" target=\"_blank\">https://wandb.ai/kdimon15/kaggle_amex_v1/runs/s4i80930</a><br/>Synced 5 W&B file(s), 0 media file(s), 0 artifact file(s) and 0 other file(s)"
      ],
      "text/plain": [
       "<IPython.core.display.HTML object>"
      ]
     },
     "metadata": {},
     "output_type": "display_data"
    },
    {
     "data": {
      "text/html": [
       "Find logs at: <code>./wandb/run-20220530_123148-s4i80930/logs</code>"
      ],
      "text/plain": [
       "<IPython.core.display.HTML object>"
      ]
     },
     "metadata": {},
     "output_type": "display_data"
    },
    {
     "data": {
      "text/html": [
       "Tracking run with wandb version 0.12.17"
      ],
      "text/plain": [
       "<IPython.core.display.HTML object>"
      ]
     },
     "metadata": {},
     "output_type": "display_data"
    },
    {
     "data": {
      "text/html": [
       "Run data is saved locally in <code>/Users/dmitrykutsenko/Desktop/My_python/Kaggle_amex/wandb/run-20220530_123422-31rjh0by</code>"
      ],
      "text/plain": [
       "<IPython.core.display.HTML object>"
      ]
     },
     "metadata": {},
     "output_type": "display_data"
    },
    {
     "data": {
      "text/html": [
       "Syncing run <strong><a href=\"https://wandb.ai/kdimon15/kaggle_amex_v1/runs/31rjh0by\" target=\"_blank\">fold_3</a></strong> to <a href=\"https://wandb.ai/kdimon15/kaggle_amex_v1\" target=\"_blank\">Weights & Biases</a> (<a href=\"https://wandb.me/run\" target=\"_blank\">docs</a>)<br/>"
      ],
      "text/plain": [
       "<IPython.core.display.HTML object>"
      ]
     },
     "metadata": {},
     "output_type": "display_data"
    },
    {
     "name": "stdout",
     "output_type": "stream",
     "text": [
      "[30]\ttraining's binary_logloss: 0.236403\ttraining's amex: 0.778604\tvalid_1's binary_logloss: 0.242128\tvalid_1's amex: 0.767789\n",
      "[60]\ttraining's binary_logloss: 0.212219\ttraining's amex: 0.801527\tvalid_1's binary_logloss: 0.225938\tvalid_1's amex: 0.780337\n",
      "[90]\ttraining's binary_logloss: 0.199467\ttraining's amex: 0.818914\tvalid_1's binary_logloss: 0.222371\tvalid_1's amex: 0.785886\n",
      "[120]\ttraining's binary_logloss: 0.189213\ttraining's amex: 0.83341\tvalid_1's binary_logloss: 0.221534\tvalid_1's amex: 0.786918\n",
      "[150]\ttraining's binary_logloss: 0.180064\ttraining's amex: 0.848175\tvalid_1's binary_logloss: 0.221248\tvalid_1's amex: 0.787605\n",
      "[180]\ttraining's binary_logloss: 0.171504\ttraining's amex: 0.861448\tvalid_1's binary_logloss: 0.221349\tvalid_1's amex: 0.788157\n",
      "\u001b[32m\u001b[1mFold 3 | 02:19 |   195 trees |                Score = 0.78779\u001b[0m\n"
     ]
    },
    {
     "data": {
      "text/html": [
       "Waiting for W&B process to finish... <strong style=\"color:green\">(success).</strong>"
      ],
      "text/plain": [
       "<IPython.core.display.HTML object>"
      ]
     },
     "metadata": {},
     "output_type": "display_data"
    },
    {
     "data": {
      "text/html": [
       "<style>\n",
       "    table.wandb td:nth-child(1) { padding: 0 10px; text-align: left ; width: auto;} td:nth-child(2) {text-align: left ; width: 100%}\n",
       "    .wandb-row { display: flex; flex-direction: row; flex-wrap: wrap; justify-content: flex-start; width: 100% }\n",
       "    .wandb-col { display: flex; flex-direction: column; flex-basis: 100%; flex: 1; padding: 10px; }\n",
       "    </style>\n",
       "<div class=\"wandb-row\"><div class=\"wandb-col\"><h3>Run history:</h3><br/><table class=\"wandb\"><tr><td>iteration</td><td>▁▁▁▂▂▂▂▂▂▃▃▃▃▃▃▄▄▄▄▄▅▅▅▅▅▅▆▆▆▆▆▇▇▇▇▇▇███</td></tr><tr><td>training_amex</td><td>▁▂▂▃▃▃▄▄▄▄▄▅▅▅▅▅▅▅▆▆▆▆▆▆▆▆▇▇▇▇▇▇▇▇▇█████</td></tr><tr><td>training_binary_logloss</td><td>█▆▄▃▃▃▃▂▂▂▂▂▂▂▂▂▂▂▂▂▂▂▂▂▁▁▁▁▁▁▁▁▁▁▁▁▁▁▁▁</td></tr><tr><td>valid_1_amex</td><td>▁▃▄▄▅▆▆▆▆▇▇▇▇▇▇▇████████████████████████</td></tr><tr><td>valid_1_binary_logloss</td><td>█▅▄▃▂▂▂▁▁▁▁▁▁▁▁▁▁▁▁▁▁▁▁▁▁▁▁▁▁▁▁▁▁▁▁▁▁▁▁▁</td></tr></table><br/></div><div class=\"wandb-col\"><h3>Run summary:</h3><br/><table class=\"wandb\"><tr><td>iteration</td><td>194</td></tr><tr><td>training_amex</td><td>0.86845</td></tr><tr><td>valid_1_amex</td><td>0.78779</td></tr></table><br/></div></div>"
      ],
      "text/plain": [
       "<IPython.core.display.HTML object>"
      ]
     },
     "metadata": {},
     "output_type": "display_data"
    },
    {
     "data": {
      "text/html": [
       "Synced <strong style=\"color:#cdcd00\">fold_3</strong>: <a href=\"https://wandb.ai/kdimon15/kaggle_amex_v1/runs/31rjh0by\" target=\"_blank\">https://wandb.ai/kdimon15/kaggle_amex_v1/runs/31rjh0by</a><br/>Synced 5 W&B file(s), 0 media file(s), 0 artifact file(s) and 0 other file(s)"
      ],
      "text/plain": [
       "<IPython.core.display.HTML object>"
      ]
     },
     "metadata": {},
     "output_type": "display_data"
    },
    {
     "data": {
      "text/html": [
       "Find logs at: <code>./wandb/run-20220530_123422-31rjh0by/logs</code>"
      ],
      "text/plain": [
       "<IPython.core.display.HTML object>"
      ]
     },
     "metadata": {},
     "output_type": "display_data"
    },
    {
     "data": {
      "text/html": [
       "Tracking run with wandb version 0.12.17"
      ],
      "text/plain": [
       "<IPython.core.display.HTML object>"
      ]
     },
     "metadata": {},
     "output_type": "display_data"
    },
    {
     "data": {
      "text/html": [
       "Run data is saved locally in <code>/Users/dmitrykutsenko/Desktop/My_python/Kaggle_amex/wandb/run-20220530_123654-1l2zrmb2</code>"
      ],
      "text/plain": [
       "<IPython.core.display.HTML object>"
      ]
     },
     "metadata": {},
     "output_type": "display_data"
    },
    {
     "data": {
      "text/html": [
       "Syncing run <strong><a href=\"https://wandb.ai/kdimon15/kaggle_amex_v1/runs/1l2zrmb2\" target=\"_blank\">fold_4</a></strong> to <a href=\"https://wandb.ai/kdimon15/kaggle_amex_v1\" target=\"_blank\">Weights & Biases</a> (<a href=\"https://wandb.me/run\" target=\"_blank\">docs</a>)<br/>"
      ],
      "text/plain": [
       "<IPython.core.display.HTML object>"
      ]
     },
     "metadata": {},
     "output_type": "display_data"
    },
    {
     "name": "stdout",
     "output_type": "stream",
     "text": [
      "[30]\ttraining's binary_logloss: 0.23566\ttraining's amex: 0.77989\tvalid_1's binary_logloss: 0.243296\tvalid_1's amex: 0.764656\n",
      "[60]\ttraining's binary_logloss: 0.211786\ttraining's amex: 0.802904\tvalid_1's binary_logloss: 0.22745\tvalid_1's amex: 0.77753\n",
      "[90]\ttraining's binary_logloss: 0.19913\ttraining's amex: 0.819753\tvalid_1's binary_logloss: 0.224134\tvalid_1's amex: 0.783005\n",
      "[120]\ttraining's binary_logloss: 0.188976\ttraining's amex: 0.833753\tvalid_1's binary_logloss: 0.223391\tvalid_1's amex: 0.784869\n",
      "[150]\ttraining's binary_logloss: 0.179718\ttraining's amex: 0.848343\tvalid_1's binary_logloss: 0.223427\tvalid_1's amex: 0.78401\n",
      "[180]\ttraining's binary_logloss: 0.171077\ttraining's amex: 0.862267\tvalid_1's binary_logloss: 0.223311\tvalid_1's amex: 0.785066\n",
      "\u001b[32m\u001b[1mFold 4 | 02:20 |   195 trees |                Score = 0.78568\u001b[0m\n"
     ]
    },
    {
     "data": {
      "text/html": [
       "Waiting for W&B process to finish... <strong style=\"color:green\">(success).</strong>"
      ],
      "text/plain": [
       "<IPython.core.display.HTML object>"
      ]
     },
     "metadata": {},
     "output_type": "display_data"
    },
    {
     "data": {
      "text/html": [
       "<style>\n",
       "    table.wandb td:nth-child(1) { padding: 0 10px; text-align: left ; width: auto;} td:nth-child(2) {text-align: left ; width: 100%}\n",
       "    .wandb-row { display: flex; flex-direction: row; flex-wrap: wrap; justify-content: flex-start; width: 100% }\n",
       "    .wandb-col { display: flex; flex-direction: column; flex-basis: 100%; flex: 1; padding: 10px; }\n",
       "    </style>\n",
       "<div class=\"wandb-row\"><div class=\"wandb-col\"><h3>Run history:</h3><br/><table class=\"wandb\"><tr><td>iteration</td><td>▁▁▁▂▂▂▂▂▂▃▃▃▃▃▃▄▄▄▄▄▅▅▅▅▅▅▆▆▆▆▆▇▇▇▇▇▇███</td></tr><tr><td>training_amex</td><td>▁▂▂▃▃▃▄▄▄▄▄▅▅▅▅▅▅▅▆▆▆▆▆▆▆▆▇▇▇▇▇▇▇▇▇█████</td></tr><tr><td>training_binary_logloss</td><td>█▆▄▃▃▃▃▂▂▂▂▂▂▂▂▂▂▂▂▂▂▂▂▂▁▁▁▁▁▁▁▁▁▁▁▁▁▁▁▁</td></tr><tr><td>valid_1_amex</td><td>▁▃▄▄▅▅▆▆▆▇▇▇▇▇▇█████████████████████████</td></tr><tr><td>valid_1_binary_logloss</td><td>█▅▄▃▂▂▂▁▁▁▁▁▁▁▁▁▁▁▁▁▁▁▁▁▁▁▁▁▁▁▁▁▁▁▁▁▁▁▁▁</td></tr></table><br/></div><div class=\"wandb-col\"><h3>Run summary:</h3><br/><table class=\"wandb\"><tr><td>iteration</td><td>194</td></tr><tr><td>training_amex</td><td>0.86903</td></tr><tr><td>valid_1_amex</td><td>0.78568</td></tr></table><br/></div></div>"
      ],
      "text/plain": [
       "<IPython.core.display.HTML object>"
      ]
     },
     "metadata": {},
     "output_type": "display_data"
    },
    {
     "data": {
      "text/html": [
       "Synced <strong style=\"color:#cdcd00\">fold_4</strong>: <a href=\"https://wandb.ai/kdimon15/kaggle_amex_v1/runs/1l2zrmb2\" target=\"_blank\">https://wandb.ai/kdimon15/kaggle_amex_v1/runs/1l2zrmb2</a><br/>Synced 5 W&B file(s), 0 media file(s), 0 artifact file(s) and 0 other file(s)"
      ],
      "text/plain": [
       "<IPython.core.display.HTML object>"
      ]
     },
     "metadata": {},
     "output_type": "display_data"
    },
    {
     "data": {
      "text/html": [
       "Find logs at: <code>./wandb/run-20220530_123654-1l2zrmb2/logs</code>"
      ],
      "text/plain": [
       "<IPython.core.display.HTML object>"
      ]
     },
     "metadata": {},
     "output_type": "display_data"
    },
    {
     "name": "stdout",
     "output_type": "stream",
     "text": [
      "\u001b[31m\u001b[1mOOF Score:   0.78759\u001b[0m\n"
     ]
    }
   ],
   "source": [
    "def my_booster(random_state=CFG['seed'], n_estimators=CFG['lgbm']['num_estimators']):\n",
    "    return LGBMClassifier(n_estimators=n_estimators,\n",
    "                          min_child_samples=CFG['lgbm']['min_child_samples'],\n",
    "                          num_leaves=CFG['lgbm']['num_leaves'],\n",
    "                          max_bins=CFG['lgbm']['max_bins'], random_state=random_state)\n",
    "\n",
    "features = [f for f in train_data.columns if f not in ('customer_ID', 'target')]\n",
    "\n",
    "score_list = []\n",
    "y_pred_list = []\n",
    "kf = StratifiedKFold(n_splits=CFG['num_folds'], random_state=CFG['seed'], shuffle=True)\n",
    "for fold, (idx_tr, idx_va) in enumerate(kf.split(train_data, target)):\n",
    "    start_time = datetime.datetime.now()\n",
    "    X_tr = train_data.iloc[idx_tr][features]\n",
    "    X_va = train_data.iloc[idx_va][features]\n",
    "    y_tr = target.iloc[idx_tr]\n",
    "    y_va = target.iloc[idx_va]\n",
    "\n",
    "    train_ds = lightgbm.Dataset(X_tr, y_tr)\n",
    "    valid_ds = lightgbm.Dataset(X_va, y_va)\n",
    "\n",
    "    wandb.init(project=\"kaggle_amex_v1\", name=f'fold_{fold}', entity=\"kdimon15\", job_type='train', config=CFG)\n",
    "    model = my_booster()\n",
    "    with warnings.catch_warnings():\n",
    "        warnings.filterwarnings('ignore', category=UserWarning)\n",
    "        model.fit(X_tr, y_tr,\n",
    "                  eval_set = [(X_tr, y_tr),(X_va, y_va)], \n",
    "                  eval_metric=[lgb_amex_metric],\n",
    "                  callbacks=[log_evaluation(30), wandb_callback()])\n",
    "\n",
    "    y_va_pred = model.predict_proba(X_va)[:,1]\n",
    "    score = amex_metric(y_va.values, y_va_pred)\n",
    "    n_trees = model.best_iteration_\n",
    "    if n_trees is None: n_trees = model.n_estimators\n",
    "    print(f\"{Fore.GREEN}{Style.BRIGHT}Fold {fold} | {str(datetime.datetime.now() - start_time)[-12:-7]} |\"\n",
    "          f\" {n_trees:5} trees |\"\n",
    "          f\"                Score = {score:.5f}{Style.RESET_ALL}\")\n",
    "    score_list.append(score)\n",
    "    y_pred_list.append(model.predict_proba(test_data[features])[:,1])\n",
    "    gc.collect()\n",
    "    \n",
    "    wandb.join()\n",
    "print(f\"{Fore.RED}{Style.BRIGHT}OOF Score:   {np.mean(score_list):.5f}{Style.RESET_ALL}\")"
   ]
  },
  {
   "cell_type": "code",
   "execution_count": 10,
   "metadata": {},
   "outputs": [
    {
     "data": {
      "image/png": "[encoded data removed]",
      "text/plain": [
       "<Figure size 720x288 with 1 Axes>"
      ]
     },
     "metadata": {
      "needs_background": "light"
     },
     "output_type": "display_data"
    }
   ],
   "source": [
    "plt.figure(figsize=(10, 4))\n",
    "plt.hist(y_va_pred[y_va == 0], bins=np.linspace(0, 1, 21),\n",
    "         alpha=0.5, density=True, label='0')\n",
    "plt.hist(y_va_pred[y_va == 1], bins=np.linspace(0, 1, 21),\n",
    "         alpha=0.5, density=True, label='1')\n",
    "plt.xlabel('y_pred')\n",
    "plt.ylabel('density')\n",
    "plt.title('OOF Prediction histogram', color='k')\n",
    "plt.legend()\n",
    "plt.show()"
   ]
  },
  {
   "cell_type": "code",
   "execution_count": 11,
   "metadata": {},
   "outputs": [
    {
     "data": {
      "image/png": "[encoded data removed]",
      "text/plain": [
       "<Figure size 864x288 with 1 Axes>"
      ]
     },
     "metadata": {
      "needs_background": "light"
     },
     "output_type": "display_data"
    }
   ],
   "source": [
    "plt.figure(figsize=(12, 4))\n",
    "CalibrationDisplay.from_predictions(y_va, y_va_pred, n_bins=50, strategy='quantile', ax=plt.gca())\n",
    "plt.title('Probability calibration')\n",
    "plt.show()"
   ]
  },
  {
   "cell_type": "code",
   "execution_count": 12,
   "metadata": {},
   "outputs": [
    {
     "data": {
      "text/html": [
       "<div>\n",
       "<style scoped>\n",
       "    .dataframe tbody tr th:only-of-type {\n",
       "        vertical-align: middle;\n",
       "    }\n",
       "\n",
       "    .dataframe tbody tr th {\n",
       "        vertical-align: top;\n",
       "    }\n",
       "\n",
       "    .dataframe thead th {\n",
       "        text-align: right;\n",
       "    }\n",
       "</style>\n",
       "<table border=\"1\" class=\"dataframe\">\n",
       "  <thead>\n",
       "    <tr style=\"text-align: right;\">\n",
       "      <th></th>\n",
       "      <th>customer_ID</th>\n",
       "      <th>prediction</th>\n",
       "    </tr>\n",
       "  </thead>\n",
       "  <tbody>\n",
       "    <tr>\n",
       "      <th>0</th>\n",
       "      <td>00000469ba478561f23a92a868bd366de6f6527a684c9a...</td>\n",
       "      <td>0.018035</td>\n",
       "    </tr>\n",
       "    <tr>\n",
       "      <th>1</th>\n",
       "      <td>00001bf2e77ff879fab36aa4fac689b9ba411dae63ae39...</td>\n",
       "      <td>0.000684</td>\n",
       "    </tr>\n",
       "    <tr>\n",
       "      <th>2</th>\n",
       "      <td>0000210045da4f81e5f122c6bde5c2a617d03eef67f82c...</td>\n",
       "      <td>0.020189</td>\n",
       "    </tr>\n",
       "    <tr>\n",
       "      <th>3</th>\n",
       "      <td>00003b41e58ede33b8daf61ab56d9952f17c9ad1c3976c...</td>\n",
       "      <td>0.304872</td>\n",
       "    </tr>\n",
       "    <tr>\n",
       "      <th>4</th>\n",
       "      <td>00004b22eaeeeb0ec976890c1d9bfc14fd9427e98c4ee9...</td>\n",
       "      <td>0.887226</td>\n",
       "    </tr>\n",
       "    <tr>\n",
       "      <th>...</th>\n",
       "      <td>...</td>\n",
       "      <td>...</td>\n",
       "    </tr>\n",
       "    <tr>\n",
       "      <th>924616</th>\n",
       "      <td>ffff952c631f2c911b8a2a8ca56ea6e656309a83d2f64c...</td>\n",
       "      <td>0.017495</td>\n",
       "    </tr>\n",
       "    <tr>\n",
       "      <th>924617</th>\n",
       "      <td>ffffcf5df59e5e0bba2a5ac4578a34e2b5aa64a1546cd3...</td>\n",
       "      <td>0.735137</td>\n",
       "    </tr>\n",
       "    <tr>\n",
       "      <th>924618</th>\n",
       "      <td>ffffd61f098cc056dbd7d2a21380c4804bbfe60856f475...</td>\n",
       "      <td>0.536987</td>\n",
       "    </tr>\n",
       "    <tr>\n",
       "      <th>924619</th>\n",
       "      <td>ffffddef1fc3643ea179c93245b68dca0f36941cd83977...</td>\n",
       "      <td>0.311232</td>\n",
       "    </tr>\n",
       "    <tr>\n",
       "      <th>924620</th>\n",
       "      <td>fffffa7cf7e453e1acc6a1426475d5cb9400859f82ff61...</td>\n",
       "      <td>0.056172</td>\n",
       "    </tr>\n",
       "  </tbody>\n",
       "</table>\n",
       "<p>924621 rows × 2 columns</p>\n",
       "</div>"
      ],
      "text/plain": [
       "                                              customer_ID  prediction\n",
       "0       00000469ba478561f23a92a868bd366de6f6527a684c9a...    0.018035\n",
       "1       00001bf2e77ff879fab36aa4fac689b9ba411dae63ae39...    0.000684\n",
       "2       0000210045da4f81e5f122c6bde5c2a617d03eef67f82c...    0.020189\n",
       "3       00003b41e58ede33b8daf61ab56d9952f17c9ad1c3976c...    0.304872\n",
       "4       00004b22eaeeeb0ec976890c1d9bfc14fd9427e98c4ee9...    0.887226\n",
       "...                                                   ...         ...\n",
       "924616  ffff952c631f2c911b8a2a8ca56ea6e656309a83d2f64c...    0.017495\n",
       "924617  ffffcf5df59e5e0bba2a5ac4578a34e2b5aa64a1546cd3...    0.735137\n",
       "924618  ffffd61f098cc056dbd7d2a21380c4804bbfe60856f475...    0.536987\n",
       "924619  ffffddef1fc3643ea179c93245b68dca0f36941cd83977...    0.311232\n",
       "924620  fffffa7cf7e453e1acc6a1426475d5cb9400859f82ff61...    0.056172\n",
       "\n",
       "[924621 rows x 2 columns]"
      ]
     },
     "metadata": {},
     "output_type": "display_data"
    }
   ],
   "source": [
    "if CFG['make_submit']:\n",
    "    sub = pd.DataFrame({'customer_ID': test_data.index,\n",
    "                        'prediction': np.mean(y_pred_list, axis=0)})\n",
    "    sub.to_csv('submission_v1.csv', index=False)\n",
    "    display(sub)"
   ]
  },
  {
   "cell_type": "code",
   "execution_count": null,
   "metadata": {},
   "outputs": [],
   "source": []
  }
 ],
 "metadata": {
  "interpreter": {
   "hash": "e6fd9c2d9edb101385e14f9ad6c1fa6574aa43a11b0523b915a94f636b6fe7dc"
  },
  "kernelspec": {
   "display_name": "Python 3.8.12 ('venv': venv)",
   "language": "python",
   "name": "python3"
  },
  "language_info": {
   "codemirror_mode": {
    "name": "ipython",
    "version": 3
   },
   "file_extension": ".py",
   "mimetype": "text/x-python",
   "name": "python",
   "nbconvert_exporter": "python",
   "pygments_lexer": "ipython3",
   "version": "3.8.12"
  },
  "orig_nbformat": 4
 },
 "nbformat": 4,
 "nbformat_minor": 2
}
